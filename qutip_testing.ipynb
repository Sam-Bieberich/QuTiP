{
 "cells": [
  {
   "cell_type": "code",
   "execution_count": null,
   "id": "a2236367",
   "metadata": {},
   "outputs": [],
   "source": [
    "!pip install qutip"
   ]
  }
 ],
 "metadata": {
  "kernelspec": {
   "display_name": "base",
   "language": "python",
   "name": "python3"
  },
  "language_info": {
   "name": "python",
   "version": "3.12.7"
  }
 },
 "nbformat": 4,
 "nbformat_minor": 5
}
