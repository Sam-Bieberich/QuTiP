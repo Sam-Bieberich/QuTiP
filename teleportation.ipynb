{
 "cells": [
  {
   "cell_type": "markdown",
   "id": "59056fb4",
   "metadata": {},
   "source": [
    "# Quantum Teleportation Circuit"
   ]
  },
  {
   "cell_type": "code",
   "execution_count": 1,
   "id": "adcb104e",
   "metadata": {
    "execution": {
     "iopub.execute_input": "2025-05-07T13:56:07.223479Z",
     "iopub.status.busy": "2025-05-07T13:56:07.223311Z",
     "iopub.status.idle": "2025-05-07T13:56:07.937026Z",
     "shell.execute_reply": "2025-05-07T13:56:07.936541Z"
    }
   },
   "outputs": [],
   "source": [
    "from math import sqrt\n",
    "\n",
    "from qutip import about, basis, tensor\n",
    "from qutip_qip.circuit import QubitCircuit\n",
    "from qutip_qip.operations import Measurement"
   ]
  },
  {
   "cell_type": "markdown",
   "id": "391c7072",
   "metadata": {},
   "source": [
    "## Introduction \n",
    "\n",
    "This notebook introduces the basic quantum teleportation circuit (https://en.wikipedia.org/wiki/Quantum_teleportation), complete with measurements and classical control. This notebook also serves as an example on how to add measurement gates and classical controls to a circuit.\n",
    "\n",
    "We will describe the circuit that enables quantum teleportation. We will use two classical wires and three qubit wires. The first qubit wire represents the quantum state $| q0 ⟩ = | \\psi ⟩$ that needs to be transferred from Alice to Bob (so the first qubit is in the possession of Alice). "
   ]
  },
  {
   "cell_type": "code",
   "execution_count": 2,
   "id": "e3f4b3a9",
   "metadata": {
    "execution": {
     "iopub.execute_input": "2025-05-07T13:56:07.938749Z",
     "iopub.status.busy": "2025-05-07T13:56:07.938522Z",
     "iopub.status.idle": "2025-05-07T13:56:07.941156Z",
     "shell.execute_reply": "2025-05-07T13:56:07.940686Z"
    }
   },
   "outputs": [],
   "source": [
    "teleportation = QubitCircuit(\n",
    "    3, num_cbits=2, input_states=[r\"\\psi\", \"0\", \"0\", \"c0\", \"c1\"]\n",
    ")"
   ]
  },
  {
   "cell_type": "markdown",
   "id": "4faf55e9",
   "metadata": {},
   "source": [
    "First, Alice and Bob need to create the shared EPR pair ($\\frac{| 00 ⟩ + | 11 ⟩} {2}$) between the second and third qubit by using the hadamard gate on Alice's qubit followed by an entangling CNOT gate.  "
   ]
  },
  {
   "cell_type": "code",
   "execution_count": 3,
   "id": "dddbfab4",
   "metadata": {
    "execution": {
     "iopub.execute_input": "2025-05-07T13:56:07.942874Z",
     "iopub.status.busy": "2025-05-07T13:56:07.942395Z",
     "iopub.status.idle": "2025-05-07T13:56:07.945448Z",
     "shell.execute_reply": "2025-05-07T13:56:07.944948Z"
    }
   },
   "outputs": [],
   "source": [
    "teleportation.add_gate(\"SNOT\", targets=[1])\n",
    "teleportation.add_gate(\"CNOT\", targets=[2], controls=[1])"
   ]
  },
  {
   "cell_type": "markdown",
   "id": "4268c470",
   "metadata": {},
   "source": [
    "Following this, Alice makes the qubit $| q0 ⟩$ interact with Alice's EPR qubit, followed by measuring on the two qubits belonging to Alice. The measurement results for the first qubit is stored in classical register $c1$ and the second qubit is stored in classical register $c0$."
   ]
  },
  {
   "cell_type": "code",
   "execution_count": 18,
   "id": "6039c99c",
   "metadata": {
    "execution": {
     "iopub.execute_input": "2025-05-07T13:56:07.946789Z",
     "iopub.status.busy": "2025-05-07T13:56:07.946642Z",
     "iopub.status.idle": "2025-05-07T13:56:07.949449Z",
     "shell.execute_reply": "2025-05-07T13:56:07.948974Z"
    }
   },
   "outputs": [
    {
     "name": "stdout",
     "output_type": "stream",
     "text": [
      "                  ┌──────┐  ┌───┐  ┌───┐                                                         \n",
      " q2 :─────────────┤ CNOT ├──┤ X ├──┤ Z ├─────────────────────────────────────────────────────────\n",
      "                  └───┬──┘  └───┘  └───┘                                                         \n",
      "        ┌──────┐      │     ┌──────┐                   ┌───┐  ┌──────┐                   ┌───┐   \n",
      " q1 :───┤ SNOT ├──────█─────┤ CNOT ├───────────────────┤ M ├──┤ CNOT ├───────────────────┤ M ├───\n",
      "        └──────┘            └───┬──┘                   └─╥─┘  └───┬──┘                   └─╥─┘   \n",
      "                                │     ┌──────┐  ┌───┐    ║        │     ┌──────┐  ┌───┐    ║     \n",
      " q0 :───────────────────────────█─────┤ SNOT ├──┤ M ├────║────────█─────┤ SNOT ├──┤ M ├────║─────\n",
      "                                      └──────┘  └─╥─┘    ║              └──────┘  └─╥─┘    ║     \n",
      "                                                  ║      ║                          ║      ║     \n",
      " c1 :═════════════════════════════════════════════╩══════║══════════════════════════╩══════║═════\n",
      "                                                         ║                                 ║     \n",
      "                                                         ║                                 ║     \n",
      " c0 :════════════════════════════════════════════════════╩═════════════════════════════════╩═════\n",
      "                                                                                                 \n"
     ]
    }
   ],
   "source": [
    "teleportation.add_gate(\"CNOT\", targets=[1], controls=[0])\n",
    "teleportation.add_gate(\"SNOT\", targets=[0])\n",
    "\n",
    "teleportation.add_measurement(\"M0\", targets=[0], classical_store=1)\n",
    "teleportation.add_measurement(\"M1\", targets=[1], classical_store=0)\n",
    "\n",
    "teleportation.draw(\"text\") "
   ]
  },
  {
   "cell_type": "markdown",
   "id": "fc69d2cf",
   "metadata": {},
   "source": [
    "Now, we apply the $X$ gate on Bob's qubit based on the classical control $c0$ and $Z$ gate based on classical control $c1$. These operations correspond to the following operations based on the state of Alice's measurement. \n",
    "\n",
    "$|00⟩ \\rightarrow $ no operation \\\n",
    "$|01⟩ \\rightarrow Z$ \\\n",
    "$|10⟩ \\rightarrow X$ \\\n",
    "$|11⟩ \\rightarrow ZX$ \n",
    "\n",
    "The final circuit mathematically must result in the third qubit taking the state $|\\psi⟩$. "
   ]
  },
  {
   "cell_type": "code",
   "execution_count": 19,
   "id": "65edd879",
   "metadata": {
    "execution": {
     "iopub.execute_input": "2025-05-07T13:56:07.950795Z",
     "iopub.status.busy": "2025-05-07T13:56:07.950641Z",
     "iopub.status.idle": "2025-05-07T13:56:07.953138Z",
     "shell.execute_reply": "2025-05-07T13:56:07.952688Z"
    }
   },
   "outputs": [
    {
     "name": "stdout",
     "output_type": "stream",
     "text": [
      "                  ┌──────┐  ┌───┐  ┌───┐  ┌───┐  ┌───┐                                           \n",
      " q2 :─────────────┤ CNOT ├──┤ X ├──┤ Z ├──┤ X ├──┤ Z ├───────────────────────────────────────────\n",
      "                  └───┬──┘  └───┘  └───┘  └───┘  └───┘                                           \n",
      "        ┌──────┐      │     ┌──────┐                   ┌───┐  ┌──────┐                   ┌───┐   \n",
      " q1 :───┤ SNOT ├──────█─────┤ CNOT ├───────────────────┤ M ├──┤ CNOT ├───────────────────┤ M ├───\n",
      "        └──────┘            └───┬──┘                   └─╥─┘  └───┬──┘                   └─╥─┘   \n",
      "                                │     ┌──────┐  ┌───┐    ║        │     ┌──────┐  ┌───┐    ║     \n",
      " q0 :───────────────────────────█─────┤ SNOT ├──┤ M ├────║────────█─────┤ SNOT ├──┤ M ├────║─────\n",
      "                                      └──────┘  └─╥─┘    ║              └──────┘  └─╥─┘    ║     \n",
      "                                                  ║      ║                          ║      ║     \n",
      " c1 :═════════════════════════════════════════════╩══════║══════════════════════════╩══════║═════\n",
      "                                                         ║                                 ║     \n",
      "                                                         ║                                 ║     \n",
      " c0 :════════════════════════════════════════════════════╩═════════════════════════════════╩═════\n",
      "                                                                                                 \n"
     ]
    }
   ],
   "source": [
    "teleportation.add_gate(\"X\", targets=[2], classical_controls=[0])\n",
    "teleportation.add_gate(\"Z\", targets=[2], classical_controls=[1])\n",
    "\n",
    "teleportation.draw(\"text\") "
   ]
  },
  {
   "cell_type": "markdown",
   "id": "43735a0d",
   "metadata": {},
   "source": [
    "Finally, our teleportation circuit is ready to run, we can view the circuit structure using the following command. "
   ]
  },
  {
   "cell_type": "code",
   "execution_count": 6,
   "id": "02ce4590",
   "metadata": {
    "execution": {
     "iopub.execute_input": "2025-05-07T13:56:07.954738Z",
     "iopub.status.busy": "2025-05-07T13:56:07.954380Z",
     "iopub.status.idle": "2025-05-07T13:56:07.959346Z",
     "shell.execute_reply": "2025-05-07T13:56:07.958872Z"
    }
   },
   "outputs": [
    {
     "data": {
      "text/plain": [
       "[Gate(SNOT, targets=[1], controls=None, classical controls=None, control_value=None, classical_control_value=None),\n",
       " Gate(CNOT, targets=[2], controls=[1], classical controls=None, control_value=1, classical_control_value=None),\n",
       " Gate(CNOT, targets=[1], controls=[0], classical controls=None, control_value=1, classical_control_value=None),\n",
       " Gate(SNOT, targets=[0], controls=None, classical controls=None, control_value=None, classical_control_value=None),\n",
       " Measurement(M0, target=[0], classical_store=1),\n",
       " Measurement(M1, target=[1], classical_store=0),\n",
       " Gate(X, targets=[2], controls=None, classical controls=[0], control_value=None, classical_control_value=1),\n",
       " Gate(Z, targets=[2], controls=None, classical controls=[1], control_value=None, classical_control_value=1)]"
      ]
     },
     "execution_count": 6,
     "metadata": {},
     "output_type": "execute_result"
    }
   ],
   "source": [
    "teleportation.gates"
   ]
  },
  {
   "cell_type": "markdown",
   "id": "88dd0ed6",
   "metadata": {},
   "source": [
    "The circuit can also be visualized:"
   ]
  },
  {
   "cell_type": "code",
   "execution_count": 7,
   "id": "24d21f3d",
   "metadata": {
    "execution": {
     "iopub.execute_input": "2025-05-07T13:56:07.960744Z",
     "iopub.status.busy": "2025-05-07T13:56:07.960448Z",
     "iopub.status.idle": "2025-05-07T13:56:08.105553Z",
     "shell.execute_reply": "2025-05-07T13:56:08.105097Z"
    }
   },
   "outputs": [
    {
     "data": {
      "image/png": "[encoded data removed]",
      "text/plain": [
       "<Figure size 795.6x795.6 with 1 Axes>"
      ]
     },
     "metadata": {},
     "output_type": "display_data"
    },
    {
     "data": {
      "text/plain": []
     },
     "execution_count": 7,
     "metadata": {},
     "output_type": "execute_result"
    }
   ],
   "source": [
    "teleportation"
   ]
  },
  {
   "cell_type": "markdown",
   "id": "258fefe9",
   "metadata": {},
   "source": [
    "The first qubit is user-specified $|\\psi ⟩$ state and the other two must be $|0⟩$. \n",
    "\n",
    "### Example 1 \n",
    "#### $|\\psi⟩ = |+ ⟩$  "
   ]
  },
  {
   "cell_type": "code",
   "execution_count": 20,
   "id": "dd1ea284",
   "metadata": {
    "execution": {
     "iopub.execute_input": "2025-05-07T13:56:08.107156Z",
     "iopub.status.busy": "2025-05-07T13:56:08.106841Z",
     "iopub.status.idle": "2025-05-07T13:56:08.109941Z",
     "shell.execute_reply": "2025-05-07T13:56:08.109516Z"
    }
   },
   "outputs": [
    {
     "data": {
      "text/latex": [
       "Quantum object: dims=[[2, 2, 2], [1]], shape=(8, 1), type='ket', dtype=Dense$$\\left(\\begin{array}{cc}0.707\\\\0\\\\0\\\\0\\\\0.707\\\\0\\\\0\\\\0\\end{array}\\right)$$"
      ],
      "text/plain": [
       "Quantum object: dims=[[2, 2, 2], [1]], shape=(8, 1), type='ket', dtype=Dense\n",
       "Qobj data =\n",
       "[[0.70710678]\n",
       " [0.        ]\n",
       " [0.        ]\n",
       " [0.        ]\n",
       " [0.70710678]\n",
       " [0.        ]\n",
       " [0.        ]\n",
       " [0.        ]]"
      ]
     },
     "execution_count": 20,
     "metadata": {},
     "output_type": "execute_result"
    }
   ],
   "source": [
    "a = 1 / sqrt(2) * basis(2, 0) + 1 / sqrt(2) * basis(2, 1)\n",
    "state = tensor(a, basis(2, 0), basis(2, 0))\n",
    "\n",
    "state"
   ]
  },
  {
   "cell_type": "markdown",
   "id": "19bc48fb",
   "metadata": {},
   "source": [
    "We can confirm our state is initialized correctly by observing the measurment statistics on the first qubit, followed by which we run the circuit."
   ]
  },
  {
   "cell_type": "code",
   "execution_count": 9,
   "id": "1cd8806c",
   "metadata": {
    "execution": {
     "iopub.execute_input": "2025-05-07T13:56:08.111328Z",
     "iopub.status.busy": "2025-05-07T13:56:08.111160Z",
     "iopub.status.idle": "2025-05-07T13:56:08.116220Z",
     "shell.execute_reply": "2025-05-07T13:56:08.115738Z"
    }
   },
   "outputs": [
    {
     "data": {
      "text/plain": [
       "([Quantum object: dims=[[2, 2, 2], [1]], shape=(8, 1), type='ket', dtype=Dense\n",
       "  Qobj data =\n",
       "  [[1.]\n",
       "   [0.]\n",
       "   [0.]\n",
       "   [0.]\n",
       "   [0.]\n",
       "   [0.]\n",
       "   [0.]\n",
       "   [0.]],\n",
       "  Quantum object: dims=[[2, 2, 2], [1]], shape=(8, 1), type='ket', dtype=Dense\n",
       "  Qobj data =\n",
       "  [[0.]\n",
       "   [0.]\n",
       "   [0.]\n",
       "   [0.]\n",
       "   [1.]\n",
       "   [0.]\n",
       "   [0.]\n",
       "   [0.]]],\n",
       " [0.4999999999999999, 0.4999999999999999])"
      ]
     },
     "execution_count": 9,
     "metadata": {},
     "output_type": "execute_result"
    }
   ],
   "source": [
    "initial_measurement = Measurement(\"start\", targets=[0])\n",
    "initial_measurement.measurement_comp_basis(state)"
   ]
  },
  {
   "cell_type": "markdown",
   "id": "e97e0032",
   "metadata": {},
   "source": [
    "We can run the circuit using the `QubitCircuit.run()` function which provided the initial state-vector (or density matrix) initiates one run on the circuit (including sampling any intermediate measurements) and providing the final results (any classical bits can also be explicitly set using the argument `cbits`). The results are returned as a `Result` object. The result states can be accessed through the `get_states()` function where the argument `index=0` specifies the first(only) result should be returned"
   ]
  },
  {
   "cell_type": "code",
   "execution_count": 10,
   "id": "966dc2c8",
   "metadata": {
    "execution": {
     "iopub.execute_input": "2025-05-07T13:56:08.117632Z",
     "iopub.status.busy": "2025-05-07T13:56:08.117335Z",
     "iopub.status.idle": "2025-05-07T13:56:08.122580Z",
     "shell.execute_reply": "2025-05-07T13:56:08.122149Z"
    }
   },
   "outputs": [
    {
     "name": "stdout",
     "output_type": "stream",
     "text": [
      "Quantum object: dims=[[2, 2, 2], [1]], shape=(8, 1), type='ket', dtype=Dense\n",
      "Qobj data =\n",
      "[[0.70710678]\n",
      " [0.70710678]\n",
      " [0.        ]\n",
      " [0.        ]\n",
      " [0.        ]\n",
      " [0.        ]\n",
      " [0.        ]\n",
      " [0.        ]]\n"
     ]
    }
   ],
   "source": [
    "state_final = teleportation.run(state)\n",
    "print(state_final)"
   ]
  },
  {
   "cell_type": "markdown",
   "id": "1181554b",
   "metadata": {},
   "source": [
    "After running, we can see the measurement statistics on the last qubit to see that the qubit is teleported correctly. "
   ]
  },
  {
   "cell_type": "code",
   "execution_count": 11,
   "id": "3ace26c7",
   "metadata": {
    "execution": {
     "iopub.execute_input": "2025-05-07T13:56:08.123872Z",
     "iopub.status.busy": "2025-05-07T13:56:08.123711Z",
     "iopub.status.idle": "2025-05-07T13:56:08.128264Z",
     "shell.execute_reply": "2025-05-07T13:56:08.127885Z"
    }
   },
   "outputs": [
    {
     "data": {
      "text/plain": [
       "([Quantum object: dims=[[2, 2, 2], [1]], shape=(8, 1), type='ket', dtype=Dense\n",
       "  Qobj data =\n",
       "  [[1.]\n",
       "   [0.]\n",
       "   [0.]\n",
       "   [0.]\n",
       "   [0.]\n",
       "   [0.]\n",
       "   [0.]\n",
       "   [0.]],\n",
       "  Quantum object: dims=[[2, 2, 2], [1]], shape=(8, 1), type='ket', dtype=Dense\n",
       "  Qobj data =\n",
       "  [[0.]\n",
       "   [1.]\n",
       "   [0.]\n",
       "   [0.]\n",
       "   [0.]\n",
       "   [0.]\n",
       "   [0.]\n",
       "   [0.]]],\n",
       " [0.4999999999999999, 0.4999999999999999])"
      ]
     },
     "execution_count": 11,
     "metadata": {},
     "output_type": "execute_result"
    }
   ],
   "source": [
    "final_measurement = Measurement(\"start\", targets=[2])\n",
    "final_measurement.measurement_comp_basis(state_final)"
   ]
  },
  {
   "cell_type": "markdown",
   "id": "5a79e124",
   "metadata": {},
   "source": [
    "### Example 2 \n",
    "#### $|\\psi⟩ = |1 ⟩$  "
   ]
  },
  {
   "cell_type": "code",
   "execution_count": 12,
   "id": "cf72ce48",
   "metadata": {
    "execution": {
     "iopub.execute_input": "2025-05-07T13:56:08.129559Z",
     "iopub.status.busy": "2025-05-07T13:56:08.129400Z",
     "iopub.status.idle": "2025-05-07T13:56:08.134234Z",
     "shell.execute_reply": "2025-05-07T13:56:08.133854Z"
    }
   },
   "outputs": [
    {
     "data": {
      "text/plain": [
       "([None,\n",
       "  Quantum object: dims=[[2, 2, 2], [1]], shape=(8, 1), type='ket', dtype=Dense\n",
       "  Qobj data =\n",
       "  [[0.]\n",
       "   [0.]\n",
       "   [0.]\n",
       "   [0.]\n",
       "   [1.]\n",
       "   [0.]\n",
       "   [0.]\n",
       "   [0.]]],\n",
       " [0.0, 1.0])"
      ]
     },
     "execution_count": 12,
     "metadata": {},
     "output_type": "execute_result"
    }
   ],
   "source": [
    "state = tensor(basis(2, 1), basis(2, 0), basis(2, 0))\n",
    "initial_measurement = Measurement(\"start\", targets=[0])\n",
    "initial_measurement.measurement_comp_basis(state)"
   ]
  },
  {
   "cell_type": "code",
   "execution_count": 13,
   "id": "07f5aa25",
   "metadata": {
    "execution": {
     "iopub.execute_input": "2025-05-07T13:56:08.135719Z",
     "iopub.status.busy": "2025-05-07T13:56:08.135416Z",
     "iopub.status.idle": "2025-05-07T13:56:08.140326Z",
     "shell.execute_reply": "2025-05-07T13:56:08.139915Z"
    }
   },
   "outputs": [
    {
     "name": "stdout",
     "output_type": "stream",
     "text": [
      "Quantum object: dims=[[2, 2, 2], [1]], shape=(8, 1), type='ket', dtype=Dense\n",
      "Qobj data =\n",
      "[[0.]\n",
      " [1.]\n",
      " [0.]\n",
      " [0.]\n",
      " [0.]\n",
      " [0.]\n",
      " [0.]\n",
      " [0.]]\n"
     ]
    }
   ],
   "source": [
    "state_final = teleportation.run(state)\n",
    "print(state_final)"
   ]
  },
  {
   "cell_type": "code",
   "execution_count": 14,
   "id": "98e52b0a",
   "metadata": {
    "execution": {
     "iopub.execute_input": "2025-05-07T13:56:08.141673Z",
     "iopub.status.busy": "2025-05-07T13:56:08.141425Z",
     "iopub.status.idle": "2025-05-07T13:56:08.145925Z",
     "shell.execute_reply": "2025-05-07T13:56:08.145464Z"
    }
   },
   "outputs": [
    {
     "data": {
      "text/plain": [
       "([None,\n",
       "  Quantum object: dims=[[2, 2, 2], [1]], shape=(8, 1), type='ket', dtype=Dense\n",
       "  Qobj data =\n",
       "  [[0.]\n",
       "   [1.]\n",
       "   [0.]\n",
       "   [0.]\n",
       "   [0.]\n",
       "   [0.]\n",
       "   [0.]\n",
       "   [0.]]],\n",
       " [0.0, 1.0])"
      ]
     },
     "execution_count": 14,
     "metadata": {},
     "output_type": "execute_result"
    }
   ],
   "source": [
    "final_measurement = Measurement(\"start\", targets=[2])\n",
    "final_measurement.measurement_comp_basis(state_final)"
   ]
  },
  {
   "cell_type": "markdown",
   "id": "d031b1cf",
   "metadata": {},
   "source": [
    "Another useful feature of the circuit module is the **QubitCircuit.run_statistics()** feature which provides the opportunity to gather all the possible output states of the circuit along with their output probabilities. Again, the results are returned as a `Result` object. The result states and respective probabilites can be accessed through the `get_results()` function. "
   ]
  },
  {
   "cell_type": "code",
   "execution_count": 15,
   "id": "15c9ff21",
   "metadata": {
    "execution": {
     "iopub.execute_input": "2025-05-07T13:56:08.147238Z",
     "iopub.status.busy": "2025-05-07T13:56:08.147068Z",
     "iopub.status.idle": "2025-05-07T13:56:08.156178Z",
     "shell.execute_reply": "2025-05-07T13:56:08.155812Z"
    }
   },
   "outputs": [
    {
     "data": {
      "text/plain": [
       "[0.24999999999999994,\n",
       " 0.24999999999999994,\n",
       " 0.24999999999999994,\n",
       " 0.24999999999999994]"
      ]
     },
     "execution_count": 15,
     "metadata": {},
     "output_type": "execute_result"
    }
   ],
   "source": [
    "results = teleportation.run_statistics(state)\n",
    "results.probabilities"
   ]
  },
  {
   "cell_type": "code",
   "execution_count": 16,
   "id": "8cb22b23",
   "metadata": {
    "execution": {
     "iopub.execute_input": "2025-05-07T13:56:08.157516Z",
     "iopub.status.busy": "2025-05-07T13:56:08.157351Z",
     "iopub.status.idle": "2025-05-07T13:56:08.161395Z",
     "shell.execute_reply": "2025-05-07T13:56:08.160976Z"
    }
   },
   "outputs": [
    {
     "data": {
      "text/plain": [
       "[Quantum object: dims=[[2, 2, 2], [1]], shape=(8, 1), type='ket', dtype=Dense\n",
       " Qobj data =\n",
       " [[0.]\n",
       "  [1.]\n",
       "  [0.]\n",
       "  [0.]\n",
       "  [0.]\n",
       "  [0.]\n",
       "  [0.]\n",
       "  [0.]],\n",
       " Quantum object: dims=[[2, 2, 2], [1]], shape=(8, 1), type='ket', dtype=Dense\n",
       " Qobj data =\n",
       " [[0.]\n",
       "  [0.]\n",
       "  [0.]\n",
       "  [1.]\n",
       "  [0.]\n",
       "  [0.]\n",
       "  [0.]\n",
       "  [0.]],\n",
       " Quantum object: dims=[[2, 2, 2], [1]], shape=(8, 1), type='ket', dtype=Dense\n",
       " Qobj data =\n",
       " [[0.]\n",
       "  [0.]\n",
       "  [0.]\n",
       "  [0.]\n",
       "  [0.]\n",
       "  [1.]\n",
       "  [0.]\n",
       "  [0.]],\n",
       " Quantum object: dims=[[2, 2, 2], [1]], shape=(8, 1), type='ket', dtype=Dense\n",
       " Qobj data =\n",
       " [[0.]\n",
       "  [0.]\n",
       "  [0.]\n",
       "  [0.]\n",
       "  [0.]\n",
       "  [0.]\n",
       "  [0.]\n",
       "  [1.]]]"
      ]
     },
     "execution_count": 16,
     "metadata": {},
     "output_type": "execute_result"
    }
   ],
   "source": [
    "results.final_states"
   ]
  },
  {
   "cell_type": "code",
   "execution_count": 17,
   "id": "c2f9d3a2",
   "metadata": {
    "execution": {
     "iopub.execute_input": "2025-05-07T13:56:08.162823Z",
     "iopub.status.busy": "2025-05-07T13:56:08.162569Z",
     "iopub.status.idle": "2025-05-07T13:56:08.730618Z",
     "shell.execute_reply": "2025-05-07T13:56:08.730109Z"
    }
   },
   "outputs": [
    {
     "name": "stdout",
     "output_type": "stream",
     "text": [
      "\n",
      "QuTiP: Quantum Toolbox in Python\n",
      "================================\n",
      "Copyright (c) QuTiP team 2011 and later.\n",
      "Current admin team: Alexander Pitchford, Nathan Shammah, Shahnawaz Ahmed, Neill Lambert, Eric Giguère, Boxi Li, Simon Cross, Asier Galicia, Paul Menczel, and Patrick Hopf.\n",
      "Board members: Daniel Burgarth, Robert Johansson, Anton F. Kockum, Franco Nori and Will Zeng.\n",
      "Original developers: R. J. Johansson & P. D. Nation.\n",
      "Previous lead developers: Chris Granade & A. Grimsmo.\n",
      "Currently developed through wide collaboration. See https://github.com/qutip for details.\n",
      "\n",
      "QuTiP Version:      5.2.0\n",
      "Numpy Version:      1.26.4\n",
      "Scipy Version:      1.13.1\n",
      "Cython Version:     None\n",
      "Matplotlib Version: 3.9.2\n",
      "Python Version:     3.12.7\n",
      "Number of CPUs:     16\n",
      "BLAS Info:          Generic\n",
      "INTEL MKL Ext:      None\n",
      "Platform Info:      Windows (AMD64)\n",
      "Installation path:  c:\\Users\\Owner\\anaconda3\\Lib\\site-packages\\qutip\n",
      "\n",
      "Installed QuTiP family packages\n",
      "-------------------------------\n",
      "\n",
      "qutip-qip: 0.4.1\n",
      "\n",
      "================================================================================\n",
      "Please cite QuTiP in your publication.\n",
      "================================================================================\n",
      "For your convenience a bibtex reference can be easily generated using `qutip.cite()`\n"
     ]
    }
   ],
   "source": [
    "about()"
   ]
  }
 ],
 "metadata": {
  "jupytext": {
   "cell_metadata_filter": "-all",
   "notebook_metadata_filter": "-jupytext.cell_metadata_filter,-jupytext.notebook_metadata_filter"
  },
  "kernelspec": {
   "display_name": "base",
   "language": "python",
   "name": "python3"
  },
  "language_info": {
   "codemirror_mode": {
    "name": "ipython",
    "version": 3
   },
   "file_extension": ".py",
   "mimetype": "text/x-python",
   "name": "python",
   "nbconvert_exporter": "python",
   "pygments_lexer": "ipython3",
   "version": "3.12.7"
  }
 },
 "nbformat": 4,
 "nbformat_minor": 5
}
