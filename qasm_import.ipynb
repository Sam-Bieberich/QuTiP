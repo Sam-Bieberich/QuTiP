{
 "cells": [
  {
   "cell_type": "code",
   "execution_count": 1,
   "id": "593bec8f",
   "metadata": {},
   "outputs": [],
   "source": [
    "import numpy as np\n",
    "from qutip import about, basis, rand_ket, tensor\n",
    "from qutip_qip.operations import Measurement\n",
    "from qutip_qip.operations.gates import gate_sequence_product\n",
    "from qutip_qip.qasm import read_qasm, print_qasm"
   ]
  },
  {
   "cell_type": "code",
   "execution_count": null,
   "id": "e76a50d4",
   "metadata": {},
   "outputs": [],
   "source": [
    "path = \"qasm_files/swap.qasm\"\n",
    "qasm_file = open(path, \"r\")\n",
    "print(qasm_file.read())"
   ]
  },
  {
   "cell_type": "code",
   "execution_count": null,
   "id": "b2031ac8",
   "metadata": {},
   "outputs": [],
   "source": [
    "qc = read_qasm(path, mode=\"qiskit\", version=\"2.0\")\n",
    "gate_sequence_product(qc.propagators())"
   ]
  },
  {
   "cell_type": "markdown",
   "id": "f335c42d",
   "metadata": {},
   "source": [
    "More information:\n",
    "\n",
    "https://nbviewer.org/urls/qutip.org/qutip-tutorials/tutorials-v5/quantum-circuits/qasm.ipynb"
   ]
  }
 ],
 "metadata": {
  "kernelspec": {
   "display_name": "base",
   "language": "python",
   "name": "python3"
  },
  "language_info": {
   "codemirror_mode": {
    "name": "ipython",
    "version": 3
   },
   "file_extension": ".py",
   "mimetype": "text/x-python",
   "name": "python",
   "nbconvert_exporter": "python",
   "pygments_lexer": "ipython3",
   "version": "3.12.7"
  }
 },
 "nbformat": 4,
 "nbformat_minor": 5
}
