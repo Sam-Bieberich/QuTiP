{
 "cells": [
  {
   "cell_type": "code",
   "execution_count": 3,
   "id": "09fc72e2-29a2-4b03-8133-4010e898635b",
   "metadata": {
    "execution": {
     "iopub.execute_input": "2025-07-17T21:45:09.841930Z",
     "iopub.status.busy": "2025-07-17T21:45:09.840576Z",
     "iopub.status.idle": "2025-07-17T21:45:09.866528Z",
     "shell.execute_reply": "2025-07-17T21:45:09.865189Z",
     "shell.execute_reply.started": "2025-07-17T21:45:09.841807Z"
    }
   },
   "outputs": [],
   "source": [
    "#plot generator\n",
    "\n",
    "def density(\n",
    "    z,\n",
    "    x_array,\n",
    "    y_array,\n",
    "    x_label=None,\n",
    "    y_label=None,\n",
    "    data_label=None,\n",
    "    title=None,\n",
    "    fig_ax=None,\n",
    "    process_fun=None,\n",
    "    z_min_max=None,\n",
    "    norm_fun=None,\n",
    "    show_values=False,\n",
    "    **kwargs,\n",
    "):\n",
    "    \"\"\"\n",
    "    norm_fun should typically be: lambda (z_min, z_max): SymLogNorm(1e-9, 1.0, vmin=z_min, vmax=z_max)\n",
    "    with: from matplotlib.colors import LogNorm, SymLogNorm\n",
    "    \"\"\"\n",
    "    global global_fig, global_axes\n",
    " \n",
    "    fig, ax = fig_ax or plt.subplots(1, 1, \n",
    "            # figsize=(14,12)\n",
    "            )\n",
    "    global_fig, global_axes = fig, ax\n",
    " \n",
    "    x, y = np.meshgrid(x_array, y_array)\n",
    " \n",
    "    z = np.ma.array(z)\n",
    " \n",
    "    if process_fun is not None:\n",
    "        z = process_fun(z)\n",
    " \n",
    "    if z_min_max is not None and not callable(z_min_max):\n",
    "        z_min = np.nanmin(z) if z_min_max[0] is None else z_min_max[0]\n",
    "        z_max = np.nanmax(z) if z_min_max[1] is None else z_min_max[1]\n",
    "    else:\n",
    "        z_min, z_max = np.nanmin(z), np.nanmax(z)\n",
    " \n",
    "    print(z_min, z_max)\n",
    " \n",
    "    norm = None\n",
    "    if norm_fun is not None:\n",
    "        norm = norm_fun(z_min, z_max)\n",
    "        z_min, z_max = None, None\n",
    " \n",
    "    # extent=[x_array[0], x_array[-1], y_array[0], y_array[-1]]\n",
    "    # im = ax.imshow(z.T,\n",
    "    # interpolation=None,\n",
    "    # cmap=\"jet\",\n",
    "    # origin='lower',\n",
    "    # vmin=z_min, vmax=z_max,\n",
    "    # # extent=extent,\n",
    "    # aspect='auto',\n",
    "    # **kwargs\n",
    "    # )\n",
    " \n",
    "    im = ax.pcolormesh(\n",
    "        x_array,\n",
    "        y_array,\n",
    "        z.T,\n",
    "        cmap=\"jet\",\n",
    "        vmin=z_min,\n",
    "        vmax=z_max,\n",
    "        norm=norm,\n",
    "        shading=\"auto\",\n",
    "        **kwargs,\n",
    "    )\n",
    " \n",
    "    c1 = fig.colorbar(im, ax=ax)\n",
    "    c1.ax.set_title(data_label, fontsize=12)\n",
    " \n",
    "    ax.set_xlabel(x_label)\n",
    "    ax.set_ylabel(y_label)\n",
    " \n",
    "    ax.set_title(title)\n",
    " \n",
    "    return fig, ax"
   ]
  },
  {
   "cell_type": "code",
   "execution_count": 17,
   "id": "e8d8ec23-d0bd-4e4b-95d5-dda6934b3725",
   "metadata": {
    "execution": {
     "iopub.execute_input": "2025-07-17T21:55:37.332192Z",
     "iopub.status.busy": "2025-07-17T21:55:37.331205Z",
     "iopub.status.idle": "2025-07-17T21:55:37.627328Z",
     "shell.execute_reply": "2025-07-17T21:55:37.626860Z",
     "shell.execute_reply.started": "2025-07-17T21:55:37.332155Z"
    }
   },
   "outputs": [],
   "source": [
    "import numpy as np\n",
    "import matplotlib.pyplot as plt"
   ]
  },
  {
   "cell_type": "code",
   "execution_count": 18,
   "id": "16e7543d-d2e3-4ef7-b091-c6cfe34b2ab6",
   "metadata": {
    "execution": {
     "iopub.execute_input": "2025-07-17T21:55:37.628350Z",
     "iopub.status.busy": "2025-07-17T21:55:37.628163Z",
     "iopub.status.idle": "2025-07-17T21:55:37.631677Z",
     "shell.execute_reply": "2025-07-17T21:55:37.631150Z",
     "shell.execute_reply.started": "2025-07-17T21:55:37.628335Z"
    }
   },
   "outputs": [],
   "source": [
    "fidelity_results = [\n",
    "    [0.8090026837385503, 0.8599827217078951, 0.9037252869761155, 0.939811799020068,\n",
    "     0.9660313698241098, 0.9826916375348361, 0.9874138605919957, 0.9825189112621638],\n",
    "    [0.8372252386675871, 0.884940566700156, 0.9245070503880619, 0.9557840015994916,\n",
    "     0.9766403072080377, 0.9876205128226528, 0.9865043646947539, 0.9758105005910468],\n",
    "    [0.8627797123710446, 0.9066748729396643, 0.9416061475735368, 0.9677146545141606,\n",
    "     0.9829713798916894, 0.9881483860746044, 0.9812096317109628, 0.9648373516333622],\n",
    "    [0.8852786523117127, 0.9248606960409963, 0.9547728891827862, 0.9754359895638961,\n",
    "     0.9849440900812318, 0.9842834345164256, 0.9716253896952374, 0.9497798750600904],\n",
    "    [0.9043854544804982, 0.9392325928103373, 0.9638232441118361, 0.9788498320788387,\n",
    "     0.982548988688222, 0.9761044039510973, 0.9579151345803822, 0.9308820346410688],\n",
    "    [0.9198209798319145, 0.9495894697424861, 0.9686417889562421, 0.9779286985368002,\n",
    "     0.9758469861906255, 0.9637582508232144, 0.940306242983114, 0.9084460254710961],\n",
    "]\n"
   ]
  },
  {
   "cell_type": "code",
   "execution_count": 19,
   "id": "1710db17-836d-4ad8-a1a4-2d251fa9cd32",
   "metadata": {
    "execution": {
     "iopub.execute_input": "2025-07-17T21:55:37.632523Z",
     "iopub.status.busy": "2025-07-17T21:55:37.632338Z",
     "iopub.status.idle": "2025-07-17T21:55:37.637136Z",
     "shell.execute_reply": "2025-07-17T21:55:37.636564Z",
     "shell.execute_reply.started": "2025-07-17T21:55:37.632508Z"
    }
   },
   "outputs": [],
   "source": [
    "omega_d_array = [3.19991027, 3.20391027, 3.20791027, 3.21191027, 3.21591027, 3.21991027]\n"
   ]
  },
  {
   "cell_type": "code",
   "execution_count": 20,
   "id": "71116444-8f68-44fe-9e6f-88d51b9a9c6f",
   "metadata": {
    "execution": {
     "iopub.execute_input": "2025-07-17T21:55:37.744658Z",
     "iopub.status.busy": "2025-07-17T21:55:37.743742Z",
     "iopub.status.idle": "2025-07-17T21:55:37.755730Z",
     "shell.execute_reply": "2025-07-17T21:55:37.752840Z",
     "shell.execute_reply.started": "2025-07-17T21:55:37.744579Z"
    }
   },
   "outputs": [],
   "source": [
    "t_g_array = [24.2, 24.25714286, 24.31428571, 24.37142857, 24.42857143, 24.48571429, 24.54285714, 24.6]\n"
   ]
  },
  {
   "cell_type": "code",
   "execution_count": 24,
   "id": "cdae84fa-125d-4c81-90c1-86048b968b71",
   "metadata": {
    "execution": {
     "iopub.execute_input": "2025-07-17T22:00:38.834234Z",
     "iopub.status.busy": "2025-07-17T22:00:38.833760Z",
     "iopub.status.idle": "2025-07-17T22:00:38.841892Z",
     "shell.execute_reply": "2025-07-17T22:00:38.841138Z",
     "shell.execute_reply.started": "2025-07-17T22:00:38.834196Z"
    }
   },
   "outputs": [],
   "source": [
    "#best output from e5 scale qcap\n",
    "\n",
    "t_g_array = [\n",
    "    24.4, 24.41428571, 24.42857143, 24.44285714,\n",
    "    24.45714286, 24.47142857, 24.48571429, 24.5\n",
    "]\n",
    "\n",
    "omega_d_array = [\n",
    "    3.20491027, 3.20691027, 3.20891027, 3.21091027, 3.21291027, 3.21491027\n",
    "]\n",
    "\n",
    "# Omega by time dimensions are 6 by 8\n",
    "\n",
    "fidelity_results = [\n",
    "    [0.9703599669024117, 0.9748563654837925, 0.9786284815282721, 0.9817947133742525,\n",
    "     0.9844772039647167, 0.9866641411093976, 0.9881659754954386, 0.9887563951666208],\n",
    "    [0.9749493210029426, 0.9787387815655677, 0.9817952770484645, 0.9842404253312115,\n",
    "     0.9861985723029623, 0.9876582531771625, 0.9884297827709180, 0.9882883246139657],\n",
    "    [0.9784683890307521, 0.9815413229949974, 0.9838747371898767, 0.9855930904333262,\n",
    "     0.9868225256101951, 0.9875519365791274, 0.9875920923289607, 0.9867203482361790],\n",
    "    [0.9809059855591369, 0.9832555806473087, 0.9848612387340280, 0.9858498703934763,\n",
    "     0.9863490036084067, 0.9863479031224959, 0.9856583820966852, 0.9840606939763336],\n",
    "    [0.9822553640915723, 0.9838775946720553, 0.9847536087183176, 0.9850123708693008,\n",
    "     0.9847823787256195, 0.9840532814118984, 0.9826385230712993, 0.9803219473017317],\n",
    "    [0.9825142227950804, 0.9834078463347020, 0.9835551026190775, 0.9830866061859501,\n",
    "     0.9821314076792268, 0.9806795555026623, 0.9785467052217122, 0.9755209646511865]\n",
    "]\n",
    "\n",
    "# z_min = 0.9703599669024117\n",
    "# z_max = 0.9887563951666208\n"
   ]
  },
  {
   "cell_type": "code",
   "execution_count": 25,
   "id": "c33265d2-12d7-4123-8052-45bb7666ccf9",
   "metadata": {
    "execution": {
     "iopub.execute_input": "2025-07-17T22:00:38.982677Z",
     "iopub.status.busy": "2025-07-17T22:00:38.981610Z",
     "iopub.status.idle": "2025-07-17T22:00:39.248889Z",
     "shell.execute_reply": "2025-07-17T22:00:39.248366Z",
     "shell.execute_reply.started": "2025-07-17T22:00:38.982587Z"
    }
   },
   "outputs": [
    {
     "name": "stdout",
     "output_type": "stream",
     "text": [
      "0.9703599669024117 0.9887563951666208\n"
     ]
    },
    {
     "data": {
      "text/plain": [
       "(<Figure size 640x480 with 2 Axes>, <Axes: >)"
      ]
     },
     "execution_count": 25,
     "metadata": {},
     "output_type": "execute_result"
    },
    {
     "data": {
      "image/png": "[encoded data removed]",
      "text/plain": [
       "<Figure size 640x480 with 2 Axes>"
      ]
     },
     "metadata": {},
     "output_type": "display_data"
    }
   ],
   "source": [
    "fidelity_results = np.asarray(fidelity_results,dtype = float)\n",
    "\n",
    "density(fidelity_results, omega_d_array, t_g_array)"
   ]
  },
  {
   "cell_type": "code",
   "execution_count": null,
   "id": "add780ed-5b9f-4df6-bc74-87852af34391",
   "metadata": {},
   "outputs": [],
   "source": []
  }
 ],
 "metadata": {
  "kernelspec": {
   "display_name": "Python 3 (ipykernel)",
   "language": "python",
   "name": "python3"
  },
  "language_info": {
   "codemirror_mode": {
    "name": "ipython",
    "version": 3
   },
   "file_extension": ".py",
   "mimetype": "text/x-python",
   "name": "python",
   "nbconvert_exporter": "python",
   "pygments_lexer": "ipython3",
   "version": "3.12.7"
  }
 },
 "nbformat": 4,
 "nbformat_minor": 5
}
