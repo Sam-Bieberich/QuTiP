{
 "cells": [
  {
   "cell_type": "code",
   "execution_count": null,
   "id": "09fc72e2-29a2-4b03-8133-4010e898635b",
   "metadata": {},
   "outputs": [],
   "source": [
    "#plot generator"
   ]
  }
 ],
 "metadata": {
  "kernelspec": {
   "display_name": "Python 3 (ipykernel)",
   "language": "python",
   "name": "python3"
  },
  "language_info": {
   "codemirror_mode": {
    "name": "ipython",
    "version": 3
   },
   "file_extension": ".py",
   "mimetype": "text/x-python",
   "name": "python",
   "nbconvert_exporter": "python",
   "pygments_lexer": "ipython3",
   "version": "3.12.7"
  }
 },
 "nbformat": 4,
 "nbformat_minor": 5
}
