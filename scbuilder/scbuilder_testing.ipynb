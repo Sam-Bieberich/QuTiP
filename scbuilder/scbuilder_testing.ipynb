{
 "cells": [
  {
   "cell_type": "code",
   "execution_count": 1,
   "id": "1802d250",
   "metadata": {},
   "outputs": [],
   "source": [
    "import scqubits as scq\n",
    "import sccircuitbuilder as sc\n"
   ]
  },
  {
   "cell_type": "code",
   "execution_count": null,
   "id": "457eeb30",
   "metadata": {},
   "outputs": [],
   "source": [
    "sc.GUI()"
   ]
  }
 ],
 "metadata": {
  "kernelspec": {
   "display_name": "base",
   "language": "python",
   "name": "python3"
  },
  "language_info": {
   "codemirror_mode": {
    "name": "ipython",
    "version": 3
   },
   "file_extension": ".py",
   "mimetype": "text/x-python",
   "name": "python",
   "nbconvert_exporter": "python",
   "pygments_lexer": "ipython3",
   "version": "3.12.7"
  }
 },
 "nbformat": 4,
 "nbformat_minor": 5
}
