{
 "cells": [
  {
   "cell_type": "code",
   "execution_count": 2,
   "id": "45c133ee",
   "metadata": {},
   "outputs": [],
   "source": [
    "import qutip as qt\n",
    "import numpy as np\n",
    "import scqubits as scq"
   ]
  },
  {
   "cell_type": "code",
   "execution_count": 3,
   "id": "e0c9079d",
   "metadata": {},
   "outputs": [
    {
     "name": "stdout",
     "output_type": "stream",
     "text": [
      "@misc{qutip5,\n",
      "  title = {{QuTiP} 5: The Quantum Toolbox in {Python}},\n",
      "  author = {Lambert, Neill and Giguère, Eric and Menczel, Paul and Li, Boxi\n",
      "    and Hopf, Patrick and Suárez, Gerardo and Gali, Marc and Lishman, Jake\n",
      "    and Gadhvi, Rushiraj and Agarwal, Rochisha and Galicia, Asier\n",
      "    and Shammah, Nathan and Nation, Paul D. and Johansson, J. R.\n",
      "    and Ahmed, Shahnawaz and Cross, Simon and Pitchford, Alexander\n",
      "    and Nori, Franco},\n",
      "  year={2024},\n",
      "  eprint={2412.04705},\n",
      "  archivePrefix={arXiv},\n",
      "  primaryClass={quant-ph},\n",
      "  url={https://arxiv.org/abs/2412.04705},\n",
      "  doi={10.48550/arXiv.2412.04705},\n",
      "}\n"
     ]
    }
   ],
   "source": [
    "qt.cite()"
   ]
  },
  {
   "cell_type": "code",
   "execution_count": 4,
   "id": "a4a53682",
   "metadata": {},
   "outputs": [
    {
     "name": "stdout",
     "output_type": "stream",
     "text": [
      "Peter Groszkowski and Jens Koch,\n",
      "'scqubits: a Python package for superconducting qubits'\n",
      "Quantum 5, 583 (2021).\n",
      "https://quantum-journal.org/papers/q-2021-11-17-583/\n",
      "\n"
     ]
    }
   ],
   "source": [
    "scq.cite()"
   ]
  },
  {
   "cell_type": "code",
   "execution_count": 5,
   "id": "c6057782",
   "metadata": {},
   "outputs": [
    {
     "data": {
      "application/vnd.jupyter.widget-view+json": {
       "model_id": "0e4179eb03d14891b53e67abfa34a4e3",
       "version_major": 2,
       "version_minor": 0
      },
      "text/plain": [
       "Container(children=[Sheet(children=[Card(children=[Img(layout=None, src='data:image/png;base64,iVBORw0KGgoAAAA…"
      ]
     },
     "metadata": {},
     "output_type": "display_data"
    },
    {
     "data": {
      "text/plain": []
     },
     "execution_count": 5,
     "metadata": {},
     "output_type": "execute_result"
    }
   ],
   "source": [
    "scq.GUI()"
   ]
  }
 ],
 "metadata": {
  "kernelspec": {
   "display_name": "base",
   "language": "python",
   "name": "python3"
  },
  "language_info": {
   "codemirror_mode": {
    "name": "ipython",
    "version": 3
   },
   "file_extension": ".py",
   "mimetype": "text/x-python",
   "name": "python",
   "nbconvert_exporter": "python",
   "pygments_lexer": "ipython3",
   "version": "3.12.7"
  }
 },
 "nbformat": 4,
 "nbformat_minor": 5
}
