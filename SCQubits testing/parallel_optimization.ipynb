{
 "cells": [
  {
   "cell_type": "code",
   "execution_count": 1,
   "id": "74361088",
   "metadata": {},
   "outputs": [],
   "source": [
    "import qutip as qt\n",
    "import numpy as np\n",
    "import scqubits as scq\n",
    "import matplotlib.pyplot as plt\n",
    "import itertools\n",
    "import warnings"
   ]
  },
  {
   "cell_type": "code",
   "execution_count": 2,
   "id": "de53d47f",
   "metadata": {},
   "outputs": [],
   "source": [
    "levels = 6\n",
    "fluxonium = scq.Fluxonium(EJ=8.9, EC=2.5, EL=0.5, flux=0.48, cutoff=110)\n",
    "c_ops = None  # will be initialized once below"
   ]
  },
  {
   "cell_type": "code",
   "execution_count": 3,
   "id": "632fd063",
   "metadata": {},
   "outputs": [],
   "source": [
    "def init_c_ops():\n",
    "    gamma_ij = {}\n",
    "    for j in range(1, levels):\n",
    "        for i in range(j):\n",
    "            t1 = fluxonium.t1_capacitive(j, i, Q_cap=1e5)\n",
    "            if t1 is not None and t1 > 0:\n",
    "                rate = 1.0 / t1\n",
    "                gamma_ij[(i, j)] = rate\n",
    "                gamma_ij[(j, i)] = rate\n",
    "    c_ops_local = []\n",
    "    for (i, j), gamma in gamma_ij.items():\n",
    "        cop = np.sqrt(gamma) * qt.basis(levels, i) * qt.basis(levels, j).dag()\n",
    "        c_ops_local.append(cop)\n",
    "    return c_ops_local"
   ]
  },
  {
   "cell_type": "code",
   "execution_count": 4,
   "id": "2bd0614e",
   "metadata": {},
   "outputs": [],
   "source": [
    "def evolve(omega_d, t_g):\n",
    "    global c_ops\n",
    "    if c_ops is None:\n",
    "        c_ops = init_c_ops()\n",
    "\n",
    "    evals, evecs = fluxonium.eigensys(evals_count=levels)\n",
    "    n_op_energy_basis = qt.Qobj(fluxonium.process_op(fluxonium.n_operator(), energy_esys=(evals, evecs)))\n",
    "    H0 = qt.Qobj(np.diag(evals))\n",
    "    A = 0.1\n",
    "    drive_op = n_op_energy_basis\n",
    "    H = [H0, [A * drive_op, 'cos(wd * t)']]\n",
    "    args = {'wd': omega_d}\n",
    "    options = qt.Options(nsteps=1000000, store_states=True, atol=1e-10, rtol=1e-9)\n",
    "\n",
    "    propagator = qt.propagator(H, t_g, args=args, options=options, c_ops=c_ops)\n",
    "    propagator_kraus = qt.to_kraus(propagator)\n",
    "    propagator_2x2 = [qt.Qobj(k.full()[:2, :2]) for k in propagator_kraus]\n",
    "    p_2x2_super = qt.kraus_to_super(propagator_2x2)\n",
    "    fidelity = qt.average_gate_fidelity(p_2x2_super, qt.sigmax())\n",
    "    return fidelity"
   ]
  },
  {
   "cell_type": "markdown",
   "id": "d061cafb",
   "metadata": {},
   "source": [
    "## Serial Execution"
   ]
  },
  {
   "cell_type": "code",
   "execution_count": 5,
   "id": "46a52c3a",
   "metadata": {},
   "outputs": [],
   "source": [
    "# if __name__ == \"__main__\":\n",
    "#     evals, _ = fluxonium.eigensys(evals_count=levels)\n",
    "#     omega_d_base = evals[1] - evals[0]\n",
    "\n",
    "#     omega_d_array = np.linspace(omega_d_base - 0.005, omega_d_base + 0.005, 10)\n",
    "#     peak_time_noise = 559.5559555955596  # previously determined\n",
    "#     t_g_array = np.linspace(0.99 * peak_time_noise, 1.01 * peak_time_noise, 10)\n",
    "#     param_pairs = list(itertools.product(omega_d_array, t_g_array))\n",
    "#     print(f\"Total simulations to run: {len(param_pairs)}\")\n",
    "\n",
    "#     results_flat = []\n",
    "#     for (omega_d, t_g) in param_pairs:\n",
    "#         print(f\"Running: omega_d={omega_d:.5f}, t_g={t_g:.2f}\")\n",
    "#         fidelity = evolve(omega_d, t_g)\n",
    "#         results_flat.append(fidelity)\n",
    "\n",
    "#     results = np.reshape(results_flat, (len(omega_d_array), len(t_g_array)))\n",
    "\n",
    "#     max_idx = np.unravel_index(np.argmax(results), results.shape)\n",
    "#     max_value = results[max_idx]\n",
    "#     omega_d_best = omega_d_array[max_idx[0]]\n",
    "#     t_g_best = t_g_array[max_idx[1]]\n",
    "\n",
    "#     print(\"\\n=== Final Results ===\")\n",
    "#     print(f\"Best fidelity: {max_value}\")\n",
    "#     print(f\"Found at omega_d = {omega_d_best}, t_g = {t_g_best}\")\n",
    "#     print(f\"Indices in results array: {max_idx}\")"
   ]
  },
  {
   "cell_type": "markdown",
   "id": "8b3bd3aa",
   "metadata": {},
   "source": [
    "## Parallel Execution"
   ]
  },
  {
   "cell_type": "code",
   "execution_count": 6,
   "id": "9e233c61",
   "metadata": {},
   "outputs": [],
   "source": [
    "from joblib import Parallel, delayed\n",
    "from tqdm.notebook import tqdm  # Better in Jupyter"
   ]
  },
  {
   "cell_type": "code",
   "execution_count": 7,
   "id": "acfaa065",
   "metadata": {},
   "outputs": [
    {
     "name": "stdout",
     "output_type": "stream",
     "text": [
      "Total simulations to run: 100\n"
     ]
    },
    {
     "data": {
      "application/vnd.jupyter.widget-view+json": {
       "model_id": "e487c111e31f41bfa9332e43ec03d1fc",
       "version_major": 2,
       "version_minor": 0
      },
      "text/plain": [
       "Running simulations:   0%|          | 0/100 [00:00<?, ?it/s]"
      ]
     },
     "metadata": {},
     "output_type": "display_data"
    },
    {
     "name": "stdout",
     "output_type": "stream",
     "text": [
      "\n",
      "=== Final Results ===\n",
      "Best fidelity: 0.7967951428624448\n",
      "Found at omega_d = 0.5103175305685398, t_g = 560.1776844351102\n",
      "Indices in results array: (4, 5)\n"
     ]
    }
   ],
   "source": [
    "if __name__ == \"__main__\":\n",
    "    evals, _ = fluxonium.eigensys(evals_count=levels)\n",
    "    omega_d_base = evals[1] - evals[0]\n",
    "\n",
    "    omega_d_array = np.linspace(omega_d_base - 0.005, omega_d_base + 0.005, 10)\n",
    "    peak_time_noise = 559.5559555955596  \n",
    "    t_g_array = np.linspace(0.99 * peak_time_noise, 1.01 * peak_time_noise, 10)\n",
    "    param_pairs = list(itertools.product(omega_d_array, t_g_array))\n",
    "    print(f\"Total simulations to run: {len(param_pairs)}\")\n",
    "\n",
    "    # Parallel execution using joblib\n",
    "    results_flat = Parallel(n_jobs=-1)(\n",
    "        delayed(evolve)(omega_d, t_g)\n",
    "        for (omega_d, t_g) in tqdm(param_pairs, desc=\"Running simulations\")\n",
    "    )\n",
    "\n",
    "    results = np.reshape(results_flat, (len(omega_d_array), len(t_g_array)))\n",
    "\n",
    "    max_idx = np.unravel_index(np.argmax(results), results.shape)\n",
    "    max_value = results[max_idx]\n",
    "    omega_d_best = omega_d_array[max_idx[0]]\n",
    "    t_g_best = t_g_array[max_idx[1]]\n",
    "\n",
    "    print(\"\\n=== Final Results ===\")\n",
    "    print(f\"Best fidelity: {max_value}\")\n",
    "    print(f\"Found at omega_d = {omega_d_best}, t_g = {t_g_best}\")\n",
    "    print(f\"Indices in results array: {max_idx}\")"
   ]
  },
  {
   "cell_type": "code",
   "execution_count": 8,
   "id": "561b0156",
   "metadata": {},
   "outputs": [
    {
     "data": {
      "text/plain": [
       "array([[0.52523415, 0.47208124, 0.40853384, 0.35835213, 0.33968728,\n",
       "        0.3591294 , 0.40938583, 0.47124509, 0.52040035, 0.53740077],\n",
       "       [0.52931675, 0.43935395, 0.36723689, 0.33970667, 0.36675957,\n",
       "        0.43817766, 0.52673674, 0.59794726, 0.62373604, 0.59422138],\n",
       "       [0.46944947, 0.37637306, 0.33973653, 0.37314647, 0.46386489,\n",
       "        0.57722691, 0.66926976, 0.70387153, 0.66749802, 0.57474744],\n",
       "       [0.38460934, 0.3398093 , 0.37708648, 0.48206882, 0.61439431,\n",
       "        0.72280135, 0.7648827 , 0.72408477, 0.61645872, 0.48417066],\n",
       "       [0.33995977, 0.37787508, 0.48970297, 0.6320822 , 0.74973634,\n",
       "        0.79679514, 0.75472536, 0.63988576, 0.49718885, 0.382354  ],\n",
       "       [0.37545328, 0.48565538, 0.62760485, 0.74592811, 0.79459354,\n",
       "        0.75456979, 0.64127715, 0.49893579, 0.38337161, 0.33993373],\n",
       "       [0.47095419, 0.60221675, 0.71262013, 0.75922886, 0.7240411 ,\n",
       "        0.62061359, 0.48917929, 0.38138647, 0.33988767, 0.38105235],\n",
       "       [0.56069483, 0.65596012, 0.69718209, 0.66865815, 0.58151683,\n",
       "        0.46953114, 0.37666266, 0.33985294, 0.37377912, 0.46454532],\n",
       "       [0.58554954, 0.61887972, 0.59769926, 0.53045006, 0.44312906,\n",
       "        0.36985671, 0.33983167, 0.36512597, 0.43516107, 0.521177  ],\n",
       "       [0.53646763, 0.52217574, 0.47533997, 0.41400688, 0.36193971,\n",
       "        0.33980912, 0.35655938, 0.40502076, 0.46483642, 0.51159962]])"
      ]
     },
     "execution_count": 8,
     "metadata": {},
     "output_type": "execute_result"
    }
   ],
   "source": [
    "results"
   ]
  },
  {
   "cell_type": "markdown",
   "id": "f902547f",
   "metadata": {},
   "source": [
    "### Param map rework for windows"
   ]
  },
  {
   "cell_type": "code",
   "execution_count": 9,
   "id": "668d839c",
   "metadata": {},
   "outputs": [],
   "source": [
    "def param_map(f, parameters, map_fun=map, dtype=object):\n",
    "    dims_list = [len(i) for i in parameters]\n",
    "    total_dim = np.prod(dims_list)\n",
    "\n",
    "    parameters_prod = tuple(itertools.product(*parameters))\n",
    "\n",
    "    data = np.empty(total_dim, dtype=dtype)\n",
    "    for i, d in enumerate(tqdm(map_fun(f, parameters_prod), total=total_dim, desc=\"Simulating\")):\n",
    "        data[i] = d\n",
    "\n",
    "    return np.reshape(data, dims_list)"
   ]
  },
  {
   "cell_type": "code",
   "execution_count": 10,
   "id": "ec28d0b2",
   "metadata": {},
   "outputs": [
    {
     "ename": "KeyboardInterrupt",
     "evalue": "",
     "output_type": "error",
     "traceback": [
      "\u001b[1;31m---------------------------------------------------------------------------\u001b[0m",
      "\u001b[1;31mKeyboardInterrupt\u001b[0m                         Traceback (most recent call last)",
      "Cell \u001b[1;32mIn[10], line 13\u001b[0m\n\u001b[0;32m     10\u001b[0m     omega_d, t_g \u001b[38;5;241m=\u001b[39m params\n\u001b[0;32m     11\u001b[0m     \u001b[38;5;28;01mreturn\u001b[39;00m evolve(omega_d, t_g)\n\u001b[1;32m---> 13\u001b[0m results \u001b[38;5;241m=\u001b[39m param_map(\n\u001b[0;32m     14\u001b[0m     f\u001b[38;5;241m=\u001b[39m\u001b[38;5;28;01mlambda\u001b[39;00m p: evolve_wrapper(p),\n\u001b[0;32m     15\u001b[0m     parameters\u001b[38;5;241m=\u001b[39m[omega_d_array, t_g_array],\n\u001b[0;32m     16\u001b[0m     map_fun\u001b[38;5;241m=\u001b[39m\u001b[38;5;28;01mlambda\u001b[39;00m f, params: Parallel(n_jobs\u001b[38;5;241m=\u001b[39m\u001b[38;5;241m-\u001b[39m\u001b[38;5;241m1\u001b[39m)(delayed(f)(p) \u001b[38;5;28;01mfor\u001b[39;00m p \u001b[38;5;129;01min\u001b[39;00m params),\n\u001b[0;32m     17\u001b[0m )\n\u001b[0;32m     19\u001b[0m max_idx \u001b[38;5;241m=\u001b[39m np\u001b[38;5;241m.\u001b[39munravel_index(np\u001b[38;5;241m.\u001b[39mnanargmax(results), results\u001b[38;5;241m.\u001b[39mshape)\n\u001b[0;32m     20\u001b[0m max_value \u001b[38;5;241m=\u001b[39m results[max_idx]\n",
      "Cell \u001b[1;32mIn[9], line 8\u001b[0m, in \u001b[0;36mparam_map\u001b[1;34m(f, parameters, map_fun, dtype)\u001b[0m\n\u001b[0;32m      5\u001b[0m parameters_prod \u001b[38;5;241m=\u001b[39m \u001b[38;5;28mtuple\u001b[39m(itertools\u001b[38;5;241m.\u001b[39mproduct(\u001b[38;5;241m*\u001b[39mparameters))\n\u001b[0;32m      7\u001b[0m data \u001b[38;5;241m=\u001b[39m np\u001b[38;5;241m.\u001b[39mempty(total_dim, dtype\u001b[38;5;241m=\u001b[39mdtype)\n\u001b[1;32m----> 8\u001b[0m \u001b[38;5;28;01mfor\u001b[39;00m i, d \u001b[38;5;129;01min\u001b[39;00m \u001b[38;5;28menumerate\u001b[39m(tqdm(map_fun(f, parameters_prod), total\u001b[38;5;241m=\u001b[39mtotal_dim, desc\u001b[38;5;241m=\u001b[39m\u001b[38;5;124m\"\u001b[39m\u001b[38;5;124mSimulating\u001b[39m\u001b[38;5;124m\"\u001b[39m)):\n\u001b[0;32m      9\u001b[0m     data[i] \u001b[38;5;241m=\u001b[39m d\n\u001b[0;32m     11\u001b[0m \u001b[38;5;28;01mreturn\u001b[39;00m np\u001b[38;5;241m.\u001b[39mreshape(data, dims_list)\n",
      "Cell \u001b[1;32mIn[10], line 16\u001b[0m, in \u001b[0;36m<lambda>\u001b[1;34m(f, params)\u001b[0m\n\u001b[0;32m     10\u001b[0m     omega_d, t_g \u001b[38;5;241m=\u001b[39m params\n\u001b[0;32m     11\u001b[0m     \u001b[38;5;28;01mreturn\u001b[39;00m evolve(omega_d, t_g)\n\u001b[0;32m     13\u001b[0m results \u001b[38;5;241m=\u001b[39m param_map(\n\u001b[0;32m     14\u001b[0m     f\u001b[38;5;241m=\u001b[39m\u001b[38;5;28;01mlambda\u001b[39;00m p: evolve_wrapper(p),\n\u001b[0;32m     15\u001b[0m     parameters\u001b[38;5;241m=\u001b[39m[omega_d_array, t_g_array],\n\u001b[1;32m---> 16\u001b[0m     map_fun\u001b[38;5;241m=\u001b[39m\u001b[38;5;28;01mlambda\u001b[39;00m f, params: Parallel(n_jobs\u001b[38;5;241m=\u001b[39m\u001b[38;5;241m-\u001b[39m\u001b[38;5;241m1\u001b[39m)(delayed(f)(p) \u001b[38;5;28;01mfor\u001b[39;00m p \u001b[38;5;129;01min\u001b[39;00m params),\n\u001b[0;32m     17\u001b[0m )\n\u001b[0;32m     19\u001b[0m max_idx \u001b[38;5;241m=\u001b[39m np\u001b[38;5;241m.\u001b[39munravel_index(np\u001b[38;5;241m.\u001b[39mnanargmax(results), results\u001b[38;5;241m.\u001b[39mshape)\n\u001b[0;32m     20\u001b[0m max_value \u001b[38;5;241m=\u001b[39m results[max_idx]\n",
      "File \u001b[1;32mc:\\Users\\Owner\\anaconda3\\Lib\\site-packages\\joblib\\parallel.py:2007\u001b[0m, in \u001b[0;36mParallel.__call__\u001b[1;34m(self, iterable)\u001b[0m\n\u001b[0;32m   2001\u001b[0m \u001b[38;5;66;03m# The first item from the output is blank, but it makes the interpreter\u001b[39;00m\n\u001b[0;32m   2002\u001b[0m \u001b[38;5;66;03m# progress until it enters the Try/Except block of the generator and\u001b[39;00m\n\u001b[0;32m   2003\u001b[0m \u001b[38;5;66;03m# reaches the first `yield` statement. This starts the asynchronous\u001b[39;00m\n\u001b[0;32m   2004\u001b[0m \u001b[38;5;66;03m# dispatch of the tasks to the workers.\u001b[39;00m\n\u001b[0;32m   2005\u001b[0m \u001b[38;5;28mnext\u001b[39m(output)\n\u001b[1;32m-> 2007\u001b[0m \u001b[38;5;28;01mreturn\u001b[39;00m output \u001b[38;5;28;01mif\u001b[39;00m \u001b[38;5;28mself\u001b[39m\u001b[38;5;241m.\u001b[39mreturn_generator \u001b[38;5;28;01melse\u001b[39;00m \u001b[38;5;28mlist\u001b[39m(output)\n",
      "File \u001b[1;32mc:\\Users\\Owner\\anaconda3\\Lib\\site-packages\\joblib\\parallel.py:1650\u001b[0m, in \u001b[0;36mParallel._get_outputs\u001b[1;34m(self, iterator, pre_dispatch)\u001b[0m\n\u001b[0;32m   1647\u001b[0m     \u001b[38;5;28;01myield\u001b[39;00m\n\u001b[0;32m   1649\u001b[0m     \u001b[38;5;28;01mwith\u001b[39;00m \u001b[38;5;28mself\u001b[39m\u001b[38;5;241m.\u001b[39m_backend\u001b[38;5;241m.\u001b[39mretrieval_context():\n\u001b[1;32m-> 1650\u001b[0m         \u001b[38;5;28;01myield from\u001b[39;00m \u001b[38;5;28mself\u001b[39m\u001b[38;5;241m.\u001b[39m_retrieve()\n\u001b[0;32m   1652\u001b[0m \u001b[38;5;28;01mexcept\u001b[39;00m \u001b[38;5;167;01mGeneratorExit\u001b[39;00m:\n\u001b[0;32m   1653\u001b[0m     \u001b[38;5;66;03m# The generator has been garbage collected before being fully\u001b[39;00m\n\u001b[0;32m   1654\u001b[0m     \u001b[38;5;66;03m# consumed. This aborts the remaining tasks if possible and warn\u001b[39;00m\n\u001b[0;32m   1655\u001b[0m     \u001b[38;5;66;03m# the user if necessary.\u001b[39;00m\n\u001b[0;32m   1656\u001b[0m     \u001b[38;5;28mself\u001b[39m\u001b[38;5;241m.\u001b[39m_exception \u001b[38;5;241m=\u001b[39m \u001b[38;5;28;01mTrue\u001b[39;00m\n",
      "File \u001b[1;32mc:\\Users\\Owner\\anaconda3\\Lib\\site-packages\\joblib\\parallel.py:1762\u001b[0m, in \u001b[0;36mParallel._retrieve\u001b[1;34m(self)\u001b[0m\n\u001b[0;32m   1757\u001b[0m \u001b[38;5;66;03m# If the next job is not ready for retrieval yet, we just wait for\u001b[39;00m\n\u001b[0;32m   1758\u001b[0m \u001b[38;5;66;03m# async callbacks to progress.\u001b[39;00m\n\u001b[0;32m   1759\u001b[0m \u001b[38;5;28;01mif\u001b[39;00m ((\u001b[38;5;28mlen\u001b[39m(\u001b[38;5;28mself\u001b[39m\u001b[38;5;241m.\u001b[39m_jobs) \u001b[38;5;241m==\u001b[39m \u001b[38;5;241m0\u001b[39m) \u001b[38;5;129;01mor\u001b[39;00m\n\u001b[0;32m   1760\u001b[0m     (\u001b[38;5;28mself\u001b[39m\u001b[38;5;241m.\u001b[39m_jobs[\u001b[38;5;241m0\u001b[39m]\u001b[38;5;241m.\u001b[39mget_status(\n\u001b[0;32m   1761\u001b[0m         timeout\u001b[38;5;241m=\u001b[39m\u001b[38;5;28mself\u001b[39m\u001b[38;5;241m.\u001b[39mtimeout) \u001b[38;5;241m==\u001b[39m TASK_PENDING)):\n\u001b[1;32m-> 1762\u001b[0m     time\u001b[38;5;241m.\u001b[39msleep(\u001b[38;5;241m0.01\u001b[39m)\n\u001b[0;32m   1763\u001b[0m     \u001b[38;5;28;01mcontinue\u001b[39;00m\n\u001b[0;32m   1765\u001b[0m \u001b[38;5;66;03m# We need to be careful: the job list can be filling up as\u001b[39;00m\n\u001b[0;32m   1766\u001b[0m \u001b[38;5;66;03m# we empty it and Python list are not thread-safe by\u001b[39;00m\n\u001b[0;32m   1767\u001b[0m \u001b[38;5;66;03m# default hence the use of the lock\u001b[39;00m\n",
      "\u001b[1;31mKeyboardInterrupt\u001b[0m: "
     ]
    }
   ],
   "source": [
    "if __name__ == \"__main__\":\n",
    "    evals, _ = fluxonium.eigensys(evals_count=levels)\n",
    "    omega_d_base = evals[1] - evals[0]\n",
    "\n",
    "    omega_d_array = np.linspace(omega_d_base - 0.005, omega_d_base + 0.005, 10)\n",
    "    peak_time_noise = 559.5559555955596\n",
    "    t_g_array = np.linspace(0.99 * peak_time_noise, 1.01 * peak_time_noise, 10)\n",
    "\n",
    "    def evolve_wrapper(params):\n",
    "        omega_d, t_g = params\n",
    "        return evolve(omega_d, t_g)\n",
    "\n",
    "    results = param_map(\n",
    "        f=lambda p: evolve_wrapper(p),\n",
    "        parameters=[omega_d_array, t_g_array],\n",
    "        map_fun=lambda f, params: Parallel(n_jobs=-1)(delayed(f)(p) for p in params),\n",
    "    )\n",
    "\n",
    "    max_idx = np.unravel_index(np.nanargmax(results), results.shape)\n",
    "    max_value = results[max_idx]\n",
    "    omega_d_best = omega_d_array[max_idx[0]]\n",
    "    t_g_best = t_g_array[max_idx[1]]\n",
    "\n",
    "    print(\"\\n=== Final Results ===\")\n",
    "    print(f\"Best fidelity: {max_value}\")\n",
    "    print(f\"Found at omega_d = {omega_d_best}, t_g = {t_g_best}\")\n",
    "    print(f\"Indices in results array: {max_idx}\")\n"
   ]
  }
 ],
 "metadata": {
  "kernelspec": {
   "display_name": "base",
   "language": "python",
   "name": "python3"
  },
  "language_info": {
   "codemirror_mode": {
    "name": "ipython",
    "version": 3
   },
   "file_extension": ".py",
   "mimetype": "text/x-python",
   "name": "python",
   "nbconvert_exporter": "python",
   "pygments_lexer": "ipython3",
   "version": "3.12.7"
  }
 },
 "nbformat": 4,
 "nbformat_minor": 5
}
