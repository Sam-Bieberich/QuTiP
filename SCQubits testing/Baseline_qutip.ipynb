{
 "cells": [
  {
   "cell_type": "markdown",
   "id": "7049819f",
   "metadata": {},
   "source": [
    "# Tasks\n",
    "\n",
    "Build gates in Fluxonium via qutip exclusively\n",
    "\n",
    "1. Approx fluxonium as a two level system as before\n",
    "\n",
    "2. Define H0, drive (sx term), define initial state, tell qutip mesolve to return full solution (list of the wavefunctions at times defined bu times array (use qoptions)), evolve system using mesolve\n",
    "\n",
    "Everything in lab frame \n",
    "\n",
    "3. Obtain the solution and then plot the population of state 0 and 1\n",
    "\n",
    "4. Switch to multipl elevel fluxonium instead of the two level idea"
   ]
  },
  {
   "cell_type": "code",
   "execution_count": 60,
   "id": "0a85e66f",
   "metadata": {},
   "outputs": [],
   "source": [
    "import qutip as qt\n",
    "import scqubits as scq\n",
    "import numpy as np"
   ]
  },
  {
   "cell_type": "markdown",
   "id": "f7b78910",
   "metadata": {},
   "source": [
    "## Approximate 2 level fluxonium"
   ]
  },
  {
   "cell_type": "code",
   "execution_count": 61,
   "id": "0d7f482f",
   "metadata": {},
   "outputs": [
    {
     "data": {
      "text/plain": [
       "Fluxonium(**{'EJ': 8.9, 'EC': 2.5, 'EL': 0.5, 'flux': 0.33, 'cutoff': 110, 'truncated_dim': 6, 'id_str': 'Fluxonium_12', 'evals_method': None, 'evals_method_options': None, 'esys_method': None, 'esys_method_options': None})"
      ]
     },
     "execution_count": 61,
     "metadata": {},
     "output_type": "execute_result"
    }
   ],
   "source": [
    "fluxonium = scq.Fluxonium(EJ = 8.9,\n",
    "                               EC = 2.5,\n",
    "                               EL = 0.5,\n",
    "                               flux = 0.33,\n",
    "                               cutoff = 110)\n",
    "\n",
    "fluxonium"
   ]
  },
  {
   "cell_type": "code",
   "execution_count": 62,
   "id": "ca407e0c",
   "metadata": {},
   "outputs": [
    {
     "data": {
      "text/latex": [
       "Quantum object: dims=[[110], [110]], shape=(110, 110), type='oper', dtype=Dense, isherm=True$$\\left(\\begin{array}{cc}2.463 & 2.853 & -1.973 & -3.684 & 1.801 & \\cdots & 2.744\\times10^{ -58 } & -2.605\\times10^{ -59 } & -8.148\\times10^{ -60 } & 7.658\\times10^{ -61 } & 2.442\\times10^{ -61 }\\\\2.853 & 2.836 & -2.345 & 0.185 & -1.543 & \\cdots & 8.639\\times10^{ -57 } & 2.741\\times10^{ -57 } & -2.616\\times10^{ -58 } & -8.212\\times10^{ -59 } & 7.996\\times10^{ -60 }\\\\-1.973 & -2.345 & 7.619 & -2.449 & 1.328 & \\cdots & -6.299\\times10^{ -55 } & 6.100\\times10^{ -56 } & 1.945\\times10^{ -56 } & -1.864\\times10^{ -57 } & -6.064\\times10^{ -58 }\\\\-3.684 & 0.185 & -2.449 & 12.164 & -0.348 & \\cdots & -1.122\\times10^{ -53 } & -3.630\\times10^{ -54 } & 3.533\\times10^{ -55 } & 1.131\\times10^{ -55 } & -1.124\\times10^{ -56 }\\\\1.801 & -1.543 & 1.328 & -0.348 & 15.497 & \\cdots & 5.665\\times10^{ -52 } & -5.597\\times10^{ -53 } & -1.820\\times10^{ -53 } & 1.779\\times10^{ -54 } & 5.910\\times10^{ -55 }\\\\\\vdots & \\vdots & \\vdots & \\vdots & \\vdots & \\ddots & \\vdots & \\vdots & \\vdots & \\vdots & \\vdots\\\\2.744\\times10^{ -58 } & 8.639\\times10^{ -57 } & -6.299\\times10^{ -55 } & -1.122\\times10^{ -53 } & 5.665\\times10^{ -52 } & \\cdots & 332.766 & -0.455 & -0.599 & -0.170 & -0.216\\\\-2.605\\times10^{ -59 } & 2.741\\times10^{ -57 } & 6.100\\times10^{ -56 } & -3.630\\times10^{ -54 } & -5.597\\times10^{ -53 } & \\cdots & -0.455 & 336.143 & -0.173 & -0.349 & -0.040\\\\-8.148\\times10^{ -60 } & -2.616\\times10^{ -58 } & 1.945\\times10^{ -56 } & 3.533\\times10^{ -55 } & -1.820\\times10^{ -53 } & \\cdots & -0.599 & -0.173 & 339.551 & -0.044 & -0.138\\\\7.658\\times10^{ -61 } & -8.212\\times10^{ -59 } & -1.864\\times10^{ -57 } & 1.131\\times10^{ -55 } & 1.779\\times10^{ -54 } & \\cdots & -0.170 & -0.349 & -0.044 & 342.923 & -0.005\\\\2.442\\times10^{ -61 } & 7.996\\times10^{ -60 } & -6.064\\times10^{ -58 } & -1.124\\times10^{ -56 } & 5.910\\times10^{ -55 } & \\cdots & -0.216 & -0.040 & -0.138 & -0.005 & 346.222\\end{array}\\right)$$"
      ],
      "text/plain": [
       "Quantum object: dims=[[110], [110]], shape=(110, 110), type='oper', dtype=Dense, isherm=True\n",
       "Qobj data =\n",
       "[[ 2.46327407e+00  2.85342367e+00 -1.97251437e+00 ... -8.14776918e-60\n",
       "   7.65836046e-61  2.44237346e-61]\n",
       " [ 2.85342367e+00  2.83599516e+00 -2.34509884e+00 ... -2.61555195e-58\n",
       "  -8.21241883e-59  7.99556305e-60]\n",
       " [-1.97251437e+00 -2.34509884e+00  7.61939246e+00 ...  1.94492951e-56\n",
       "  -1.86354530e-57 -6.06447257e-58]\n",
       " ...\n",
       " [-8.14776918e-60 -2.61555195e-58  1.94492951e-56 ...  3.39551088e+02\n",
       "  -4.40780822e-02 -1.37618811e-01]\n",
       " [ 7.65836046e-61 -8.21241883e-59 -1.86354530e-57 ... -4.40780822e-02\n",
       "   3.42922702e+02 -4.84399444e-03]\n",
       " [ 2.44237346e-61  7.99556305e-60 -6.06447257e-58 ... -1.37618811e-01\n",
       "  -4.84399444e-03  3.46221965e+02]]"
      ]
     },
     "execution_count": 62,
     "metadata": {},
     "output_type": "execute_result"
    }
   ],
   "source": [
    "Hamiltonian = qt.Qobj(fluxonium.hamiltonian())\n",
    "\n",
    "Hamiltonian"
   ]
  },
  {
   "cell_type": "code",
   "execution_count": 63,
   "id": "0fa7ab1c",
   "metadata": {},
   "outputs": [
    {
     "data": {
      "text/plain": [
       "array([-1.72737703,  1.343799  ,  8.49448413, 12.13437429, 13.34329487,\n",
       "       17.70414565])"
      ]
     },
     "execution_count": 63,
     "metadata": {},
     "output_type": "execute_result"
    }
   ],
   "source": [
    "fluxonium.eigenvals()"
   ]
  },
  {
   "cell_type": "markdown",
   "id": "407eb0c3",
   "metadata": {},
   "source": [
    "## Definitions\n",
    "\n",
    "### H0"
   ]
  },
  {
   "cell_type": "code",
   "execution_count": 64,
   "id": "9750ac0a",
   "metadata": {},
   "outputs": [
    {
     "data": {
      "text/plain": [
       "3.0711760275833404"
      ]
     },
     "execution_count": 64,
     "metadata": {},
     "output_type": "execute_result"
    }
   ],
   "source": [
    "evals, evecs = fluxonium.eigensys(evals_count=2)\n",
    "\n",
    "omega_01 = evals[1] - evals[0]\n",
    "\n",
    "omega_01"
   ]
  },
  {
   "cell_type": "code",
   "execution_count": 65,
   "id": "c342348b",
   "metadata": {},
   "outputs": [
    {
     "data": {
      "text/latex": [
       "Quantum object: dims=[[2], [2]], shape=(2, 2), type='oper', dtype=Dense, isherm=True$$\\left(\\begin{array}{cc}1.536 & 0\\\\0 & -1.536\\end{array}\\right)$$"
      ],
      "text/plain": [
       "Quantum object: dims=[[2], [2]], shape=(2, 2), type='oper', dtype=Dense, isherm=True\n",
       "Qobj data =\n",
       "[[ 1.53558801  0.        ]\n",
       " [ 0.         -1.53558801]]"
      ]
     },
     "execution_count": 65,
     "metadata": {},
     "output_type": "execute_result"
    }
   ],
   "source": [
    "H_0 = 0.5 * omega_01 * qt.Qobj([[1, 0], [0, -1]])\n",
    "\n",
    "H_0"
   ]
  },
  {
   "cell_type": "markdown",
   "id": "51e604ab",
   "metadata": {},
   "source": [
    "### Drive term"
   ]
  },
  {
   "cell_type": "code",
   "execution_count": 67,
   "id": "7bfe9ce8",
   "metadata": {},
   "outputs": [
    {
     "data": {
      "text/latex": [
       "Quantum object: dims=[[2], [2]], shape=(2, 2), type='oper', dtype=CSR, isherm=True$$\\left(\\begin{array}{cc}0 & 1\\\\1 & 0\\end{array}\\right)$$"
      ],
      "text/plain": [
       "Quantum object: dims=[[2], [2]], shape=(2, 2), type='oper', dtype=CSR, isherm=True\n",
       "Qobj data =\n",
       "[[0. 1.]\n",
       " [1. 0.]]"
      ]
     },
     "execution_count": 67,
     "metadata": {},
     "output_type": "execute_result"
    }
   ],
   "source": [
    "H_drive = qt.sigmax()\n",
    "\n",
    "H_drive"
   ]
  },
  {
   "cell_type": "markdown",
   "id": "9cdf5de4",
   "metadata": {},
   "source": [
    "### Initial State"
   ]
  },
  {
   "cell_type": "code",
   "execution_count": null,
   "id": "3b4ac905",
   "metadata": {},
   "outputs": [],
   "source": []
  },
  {
   "cell_type": "markdown",
   "id": "253297fb",
   "metadata": {},
   "source": [
    "### Mesolve operations"
   ]
  },
  {
   "cell_type": "code",
   "execution_count": null,
   "id": "792e6f74",
   "metadata": {},
   "outputs": [],
   "source": []
  },
  {
   "cell_type": "markdown",
   "id": "25420571",
   "metadata": {},
   "source": [
    "## Plot population of 0 and 1"
   ]
  },
  {
   "cell_type": "code",
   "execution_count": null,
   "id": "53a1769a",
   "metadata": {},
   "outputs": [],
   "source": []
  },
  {
   "cell_type": "markdown",
   "id": "e0c2aad7",
   "metadata": {},
   "source": [
    "## Switch to multi-level system instead of two"
   ]
  },
  {
   "cell_type": "code",
   "execution_count": null,
   "id": "74e70940",
   "metadata": {},
   "outputs": [],
   "source": []
  }
 ],
 "metadata": {
  "kernelspec": {
   "display_name": "base",
   "language": "python",
   "name": "python3"
  },
  "language_info": {
   "codemirror_mode": {
    "name": "ipython",
    "version": 3
   },
   "file_extension": ".py",
   "mimetype": "text/x-python",
   "name": "python",
   "nbconvert_exporter": "python",
   "pygments_lexer": "ipython3",
   "version": "3.12.7"
  }
 },
 "nbformat": 4,
 "nbformat_minor": 5
}
