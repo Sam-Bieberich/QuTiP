{
 "cells": [
  {
   "cell_type": "markdown",
   "id": "07ae1289",
   "metadata": {},
   "source": [
    "# Imports"
   ]
  },
  {
   "cell_type": "code",
   "execution_count": null,
   "id": "732db6c7",
   "metadata": {},
   "outputs": [],
   "source": [
    "import numpy as np\n",
    "import matplotlib.pyplot as plt\n",
    "import qutip as qt\n",
    "import scqubits as scq"
   ]
  },
  {
   "cell_type": "markdown",
   "id": "a99ed9e6",
   "metadata": {},
   "source": [
    "# Part 1\n",
    "\n",
    "You could try to setup an example where you do an X gate on a fluxonium qubit; that would involve using scqubits to get the hamiltnoian...  write down the drive term (which would be just a linear ~A*cos(omega_d*t)*phi, here phi is the phase degree of freedom), and see if you can drive an X gate that causes a transition 0->1 "
   ]
  },
  {
   "cell_type": "code",
   "execution_count": null,
   "id": "9556207c",
   "metadata": {},
   "outputs": [],
   "source": []
  },
  {
   "cell_type": "markdown",
   "id": "62cb093f",
   "metadata": {},
   "source": [
    "# Part 2\n",
    "\n",
    "Another thing to try would be to try to reproduce (even partially) some of the results from that wilhelm paper where they embed two qubits into a single transmon... there could just use qutip and qutip-ctrl to find the right pulses. "
   ]
  },
  {
   "cell_type": "code",
   "execution_count": null,
   "id": "76b0fb44",
   "metadata": {},
   "outputs": [],
   "source": []
  }
 ],
 "metadata": {
  "language_info": {
   "name": "python"
  }
 },
 "nbformat": 4,
 "nbformat_minor": 5
}
