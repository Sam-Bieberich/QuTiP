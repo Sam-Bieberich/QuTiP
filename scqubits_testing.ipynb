{
 "cells": [
  {
   "cell_type": "code",
   "execution_count": 2,
   "id": "249772e8",
   "metadata": {},
   "outputs": [],
   "source": [
    "# import scqubits.testing as sctest\n",
    "# sctest.run()"
   ]
  },
  {
   "cell_type": "code",
   "execution_count": 3,
   "id": "d0d1e54e",
   "metadata": {},
   "outputs": [
    {
     "name": "stderr",
     "output_type": "stream",
     "text": [
      "c:\\Users\\Owner\\anaconda3\\Lib\\site-packages\\qutip\\solver\\solver_base.py:576: FutureWarning: e_ops will be keyword only from qutip 5.3 for all solver\n",
      "  warnings.warn(\n"
     ]
    },
    {
     "data": {
      "image/png": "[encoded data removed]",
      "text/plain": [
       "<Figure size 640x480 with 1 Axes>"
      ]
     },
     "metadata": {},
     "output_type": "display_data"
    }
   ],
   "source": [
    "import numpy as np\n",
    "import qutip as qt\n",
    "import matplotlib.pyplot as plt\n",
    "\n",
    "w_q = 5.0      # qubit frequency\n",
    "A = 0.5        # drive amplitude\n",
    "w_d = 5.0      # drive frequency\n",
    "tlist = np.linspace(0, 10, 200)\n",
    "psi0 = qt.basis(2, 0)  # initial state |0>\n",
    "\n",
    "def drive_coeff(t, args):\n",
    "    return A * np.cos(args['w_d'] * t)\n",
    "\n",
    "# Hamiltonian definition\n",
    "H = [w_q/2 * qt.sigmaz(), [qt.sigmax(), drive_coeff]]\n",
    "args = {'w_d': w_d}\n",
    "\n",
    "# Time evolution\n",
    "result = qt.mesolve(H, psi0, tlist, [], [], args=args)\n",
    "\n",
    "# Plot population of |1>\n",
    "pop1 = [np.abs(state.overlap(qt.basis(2,1)))**2 for state in result.states]\n",
    "plt.plot(tlist, pop1)\n",
    "plt.xlabel('Time')\n",
    "plt.ylabel('Population |1>')\n",
    "plt.title('Driven Qubit Dynamics in QuTiP')\n",
    "plt.show()\n"
   ]
  },
  {
   "cell_type": "code",
   "execution_count": 4,
   "id": "0d7fc5be",
   "metadata": {},
   "outputs": [
    {
     "data": {
      "text/plain": [
       "{'w_d': 5.0}"
      ]
     },
     "execution_count": 4,
     "metadata": {},
     "output_type": "execute_result"
    }
   ],
   "source": [
    "args"
   ]
  },
  {
   "cell_type": "code",
   "execution_count": 5,
   "id": "a7f9423b",
   "metadata": {},
   "outputs": [
    {
     "data": {
      "text/plain": [
       "[Quantum object: dims=[[2], [2]], shape=(2, 2), type='oper', dtype=CSR, isherm=True\n",
       " Qobj data =\n",
       " [[ 2.5  0. ]\n",
       "  [ 0.  -2.5]],\n",
       " [Quantum object: dims=[[2], [2]], shape=(2, 2), type='oper', dtype=CSR, isherm=True\n",
       "  Qobj data =\n",
       "  [[0. 1.]\n",
       "   [1. 0.]],\n",
       "  <function __main__.drive_coeff(t, args)>]]"
      ]
     },
     "execution_count": 5,
     "metadata": {},
     "output_type": "execute_result"
    }
   ],
   "source": [
    "H"
   ]
  },
  {
   "cell_type": "code",
   "execution_count": 6,
   "id": "718e8af7",
   "metadata": {},
   "outputs": [
    {
     "data": {
      "text/plain": [
       "{'w_d': 5.0}"
      ]
     },
     "execution_count": 6,
     "metadata": {},
     "output_type": "execute_result"
    }
   ],
   "source": [
    "args"
   ]
  },
  {
   "cell_type": "code",
   "execution_count": 7,
   "id": "23734403",
   "metadata": {},
   "outputs": [
    {
     "data": {
      "text/latex": [
       "Quantum object: dims=[[2], [1]], shape=(2, 1), type='ket', dtype=Dense$$\\left(\\begin{array}{cc}1\\\\0\\end{array}\\right)$$"
      ],
      "text/plain": [
       "Quantum object: dims=[[2], [1]], shape=(2, 1), type='ket', dtype=Dense\n",
       "Qobj data =\n",
       "[[1.]\n",
       " [0.]]"
      ]
     },
     "execution_count": 7,
     "metadata": {},
     "output_type": "execute_result"
    }
   ],
   "source": [
    "psi0"
   ]
  },
  {
   "cell_type": "code",
   "execution_count": 8,
   "id": "b61b71b4",
   "metadata": {},
   "outputs": [
    {
     "data": {
      "text/latex": [
       "Quantum object: dims=[[2], [1]], shape=(2, 1), type='ket', dtype=Dense$$\\left(\\begin{array}{cc}1\\\\0\\end{array}\\right)$$"
      ],
      "text/plain": [
       "Quantum object: dims=[[2], [1]], shape=(2, 1), type='ket', dtype=Dense\n",
       "Qobj data =\n",
       "[[1.]\n",
       " [0.]]"
      ]
     },
     "execution_count": 8,
     "metadata": {},
     "output_type": "execute_result"
    }
   ],
   "source": [
    "from qutip import Qobj\n",
    "\n",
    "psi02 = Qobj([[1], [0]])\n",
    "\n",
    "psi02"
   ]
  },
  {
   "cell_type": "code",
   "execution_count": 9,
   "id": "59bfe088",
   "metadata": {},
   "outputs": [
    {
     "data": {
      "text/latex": [
       "Quantum object: dims=[[2], [2]], shape=(2, 2), type='oper', dtype=CSR, isherm=True$$\\left(\\begin{array}{cc}0 & 1\\\\1 & 0\\end{array}\\right)$$"
      ],
      "text/plain": [
       "Quantum object: dims=[[2], [2]], shape=(2, 2), type='oper', dtype=CSR, isherm=True\n",
       "Qobj data =\n",
       "[[0. 1.]\n",
       " [1. 0.]]"
      ]
     },
     "execution_count": 9,
     "metadata": {},
     "output_type": "execute_result"
    }
   ],
   "source": [
    "psi03 = qt.sigmax()\t\n",
    "\n",
    "psi03"
   ]
  },
  {
   "cell_type": "code",
   "execution_count": 10,
   "id": "98747c54",
   "metadata": {},
   "outputs": [
    {
     "name": "stdout",
     "output_type": "stream",
     "text": [
      "Equal\n"
     ]
    }
   ],
   "source": [
    "if (psi02 == psi0):\n",
    "    print(\"Equal\")"
   ]
  },
  {
   "cell_type": "code",
   "execution_count": 11,
   "id": "4f3321e2",
   "metadata": {},
   "outputs": [
    {
     "data": {
      "text/latex": [
       "Quantum object: dims=[[1], [2]], shape=(1, 2), type='bra', dtype=Dense$$\\left(\\begin{array}{cc}0 & 1\\end{array}\\right)$$"
      ],
      "text/plain": [
       "Quantum object: dims=[[1], [2]], shape=(1, 2), type='bra', dtype=Dense\n",
       "Qobj data =\n",
       "[[0. 1.]]"
      ]
     },
     "execution_count": 11,
     "metadata": {},
     "output_type": "execute_result"
    }
   ],
   "source": [
    "psi0.dag() * psi03"
   ]
  },
  {
   "cell_type": "markdown",
   "id": "dc959b10",
   "metadata": {},
   "source": [
    "## Generated Tutorial on qubit driving\n",
    "\n"
   ]
  },
  {
   "cell_type": "code",
   "execution_count": 12,
   "id": "bb3692a8",
   "metadata": {},
   "outputs": [
    {
     "data": {
      "image/png": "[encoded data removed]",
      "text/plain": [
       "<Figure size 640x480 with 1 Axes>"
      ]
     },
     "metadata": {},
     "output_type": "display_data"
    }
   ],
   "source": [
    "import numpy as np\n",
    "import qutip as qt\n",
    "import matplotlib.pyplot as plt\n",
    "\n",
    "# Parameters\n",
    "w_q = 5.0      # Qubit frequency (arbitrary units)\n",
    "A = 1.0        # Drive amplitude (sets Rabi frequency)\n",
    "w_d = 5.0      # Drive frequency (set equal to qubit frequency for resonance)\n",
    "t_pi = np.pi / A  # Duration for a pi-pulse (NOT gate)\n",
    "tlist = np.linspace(0, t_pi, 200)  # Time array covering one pi-pulse\n",
    "\n",
    "# Initial state: |0>\n",
    "psi0 = qt.basis(2, 0)\n",
    "\n",
    "# Time-dependent drive coefficient\n",
    "def drive_coeff(t, args):\n",
    "    return args['A'] * np.cos(args['w_d'] * t)\n",
    "\n",
    "# Hamiltonian: static + time-dependent drive\n",
    "H = [w_q/2 * qt.sigmaz(), [qt.sigmax(), drive_coeff]]\n",
    "args = {'w_d': w_d, 'A': A}\n",
    "\n",
    "# Time evolution\n",
    "result = qt.mesolve(H, psi0, tlist, [], [], args=args)\n",
    "\n",
    "# Calculate population of |1>\n",
    "pop1 = [np.abs(state.overlap(qt.basis(2,1)))**2 for state in result.states]\n",
    "\n",
    "# Plot results\n",
    "plt.plot(tlist, pop1)\n",
    "plt.xlabel('Time')\n",
    "plt.ylabel('Population |1>')\n",
    "plt.title('Qubit NOT Gate via Resonant Drive')\n",
    "plt.show()\n"
   ]
  },
  {
   "cell_type": "code",
   "execution_count": 19,
   "id": "66ef0c2e",
   "metadata": {},
   "outputs": [
    {
     "name": "stdout",
     "output_type": "stream",
     "text": [
      "Quantum object: dims=[[2], [1]], shape=(2, 1), type='ket', dtype=Dense\n",
      "Qobj data =\n",
      "[[ 0.70710678]\n",
      " [-0.70710678]]\n"
     ]
    }
   ],
   "source": [
    "from qutip_qip.circuit import QubitCircuit\n",
    "from qutip import basis\n",
    "\n",
    "# Create a 1-qubit circuit\n",
    "qc = QubitCircuit(1)\n",
    "qc.add_gate(\"X\", targets=0)      # Pauli-X\n",
    "qc.add_gate(\"SNOT\", targets=0)   # Hadamard\n",
    "# qc.add_gate(\"RZ\", targets=0, arg_value=0.5)  # RZ rotation\n",
    "\n",
    "# Simulate the circuit\n",
    "init_state = basis(2, 0)  # |0>\n",
    "final_state = qc.run(init_state)\n",
    "print(final_state)\n"
   ]
  },
  {
   "cell_type": "code",
   "execution_count": 21,
   "id": "628a8be0",
   "metadata": {},
   "outputs": [
    {
     "name": "stdout",
     "output_type": "stream",
     "text": [
      "Quantum object: dims=[[2, 2], [1]], shape=(4, 1), type='ket', dtype=Dense\n",
      "Qobj data =\n",
      "[[0.]\n",
      " [0.]\n",
      " [1.]\n",
      " [0.]]\n",
      "-----------------------\n",
      "        ┌──────┐        \n",
      " q1 :───┤ CNOT ├───╳────\n",
      "        └───┬──┘   │    \n",
      "            │      │    \n",
      " q0 :───────█──────╳────\n",
      "                        \n"
     ]
    }
   ],
   "source": [
    "from qutip_qip.circuit import QubitCircuit\n",
    "from qutip import basis\n",
    "\n",
    "# Create a 2-qubit circuit\n",
    "qc = QubitCircuit(2)\n",
    "qc.add_gate(\"CNOT\", controls=0, targets=1)\n",
    "qc.add_gate(\"SWAP\", targets=[0, 1])\n",
    "\n",
    "# Simulate the circuit\n",
    "init_state = basis([2, 2], [0, 1])  # |01>\n",
    "final_state = qc.run(init_state)\n",
    "print(final_state)\n",
    "\n",
    "print(\"-----------------------\")\n",
    "\n",
    "qc.draw(\"text\")                 # For text output\n",
    "\n"
   ]
  },
  {
   "cell_type": "code",
   "execution_count": 16,
   "id": "dadc2eec",
   "metadata": {},
   "outputs": [],
   "source": [
    "import numpy as np\n",
    "from qutip import Qobj\n",
    "from qutip_qip.circuit import QubitCircuit\n",
    "\n",
    "def custom_gate():\n",
    "    # Example: S gate\n",
    "    mat = np.array([[1., 0], [0., 1j]])\n",
    "    return Qobj(mat, dims=[[2], [2]])\n",
    "\n",
    "qc = QubitCircuit(1)\n",
    "qc.user_gates = {\"S\": custom_gate}\n",
    "qc.add_gate(\"S\", targets=0)\n"
   ]
  },
  {
   "cell_type": "code",
   "execution_count": 17,
   "id": "6fb645ef",
   "metadata": {},
   "outputs": [
    {
     "data": {
      "image/png": "[encoded data removed]",
      "text/plain": [
       "<Figure size 735.073x735.073 with 1 Axes>"
      ]
     },
     "metadata": {},
     "output_type": "display_data"
    },
    {
     "name": "stdout",
     "output_type": "stream",
     "text": [
      "        ┌───┐   \n",
      " q0 :───┤ S ├───\n",
      "        └───┘   \n"
     ]
    }
   ],
   "source": [
    "qc.draw(\"matplotlib\", dpi=300)  # For graphical output\n",
    "qc.draw(\"text\")                 # For text output\n"
   ]
  },
  {
   "cell_type": "code",
   "execution_count": 18,
   "id": "d94a841d",
   "metadata": {},
   "outputs": [
    {
     "name": "stdout",
     "output_type": "stream",
     "text": [
      "Quantum object: dims=[[2, 2], [1]], shape=(4, 1), type='ket', dtype=Dense\n",
      "Qobj data =\n",
      "[[1.]\n",
      " [0.]\n",
      " [0.]\n",
      " [0.]]\n"
     ]
    }
   ],
   "source": [
    "from qutip import basis\n",
    "\n",
    "init_state = basis([2, 2], [0, 0])  # |00>\n",
    "final_state = qc.run(init_state)\n",
    "print(final_state)\n"
   ]
  }
 ],
 "metadata": {
  "kernelspec": {
   "display_name": "base",
   "language": "python",
   "name": "python3"
  },
  "language_info": {
   "codemirror_mode": {
    "name": "ipython",
    "version": 3
   },
   "file_extension": ".py",
   "mimetype": "text/x-python",
   "name": "python",
   "nbconvert_exporter": "python",
   "pygments_lexer": "ipython3",
   "version": "3.12.7"
  }
 },
 "nbformat": 4,
 "nbformat_minor": 5
}
